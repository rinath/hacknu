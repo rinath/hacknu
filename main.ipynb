{
  "nbformat": 4,
  "nbformat_minor": 0,
  "metadata": {
    "colab": {
      "name": "main.ipynb",
      "provenance": [],
      "collapsed_sections": []
    },
    "kernelspec": {
      "name": "python3",
      "display_name": "Python 3"
    },
    "language_info": {
      "name": "python"
    }
  },
  "cells": [
    {
      "cell_type": "code",
      "metadata": {
        "colab": {
          "base_uri": "https://localhost:8080/"
        },
        "id": "XhFeXCbxaA3w",
        "outputId": "2b6ff6ed-3f60-4474-8248-8a323a73361e"
      },
      "source": [
        "from google.colab import drive\n",
        "drive.mount('/content/drive')"
      ],
      "execution_count": 7,
      "outputs": [
        {
          "output_type": "stream",
          "text": [
            "Mounted at /content/drive\n"
          ],
          "name": "stdout"
        }
      ]
    },
    {
      "cell_type": "code",
      "metadata": {
        "id": "QabJa6ueacOu",
        "colab": {
          "base_uri": "https://localhost:8080/"
        },
        "outputId": "b937b098-59e3-4b1f-eacb-6bd7160d64e7"
      },
      "source": [
        "!pwd\n",
        "!pip install rank_bm25"
      ],
      "execution_count": 3,
      "outputs": [
        {
          "output_type": "stream",
          "text": [
            "/content\n",
            "Collecting rank_bm25\n",
            "  Downloading https://files.pythonhosted.org/packages/16/5a/23ed3132063a0684ea66fb410260c71c4ffda3b99f8f1c021d1e245401b5/rank_bm25-0.2.1-py3-none-any.whl\n",
            "Requirement already satisfied: numpy in /usr/local/lib/python3.7/dist-packages (from rank_bm25) (1.19.5)\n",
            "Installing collected packages: rank-bm25\n",
            "Successfully installed rank-bm25-0.2.1\n"
          ],
          "name": "stdout"
        }
      ]
    },
    {
      "cell_type": "code",
      "metadata": {
        "id": "KDUyfhjDl1tN",
        "colab": {
          "base_uri": "https://localhost:8080/"
        },
        "outputId": "e636af0e-8131-4342-b7bb-b47feb64644b"
      },
      "source": [
        "import os\n",
        "import sys\n",
        "import psutil\n",
        "import nltk\n",
        "import time\n",
        "import numpy as np\n",
        "import pandas as pd\n",
        "from sklearn.feature_extraction.text import TfidfVectorizer\n",
        "from IPython.core import display as ICD\n",
        "from nltk.stem import WordNetLemmatizer\n",
        "from nltk.tokenize import RegexpTokenizer\n",
        "from rank_bm25 import BM25Okapi, BM25L, BM25Plus\n",
        "nltk.download('punkt')\n",
        "nltk.download('wordnet')\n",
        "os.environ['KAGGLE_CONFIG_DIR'] = \"/content/drive/MyDrive/Colab Notebooks/hacknu\"\n",
        "def show_memory(st):\n",
        "  process = psutil.Process(os.getpid())\n",
        "  print(f'Memory usage {st}:', process.memory_info().rss / 1024 / 1024, 'mb')"
      ],
      "execution_count": 4,
      "outputs": [
        {
          "output_type": "stream",
          "text": [
            "[nltk_data] Downloading package punkt to /root/nltk_data...\n",
            "[nltk_data]   Unzipping tokenizers/punkt.zip.\n",
            "[nltk_data] Downloading package wordnet to /root/nltk_data...\n",
            "[nltk_data]   Unzipping corpora/wordnet.zip.\n"
          ],
          "name": "stdout"
        }
      ]
    },
    {
      "cell_type": "code",
      "metadata": {
        "colab": {
          "base_uri": "https://localhost:8080/"
        },
        "id": "irT49biV0Ud6",
        "outputId": "9f314517-6693-403c-a672-bdd8d7332add"
      },
      "source": [
        "show_memory('at start')"
      ],
      "execution_count": null,
      "outputs": [
        {
          "output_type": "stream",
          "text": [
            "Memory usage at start: 163.30859375 mb\n"
          ],
          "name": "stdout"
        }
      ]
    },
    {
      "cell_type": "code",
      "metadata": {
        "colab": {
          "base_uri": "https://localhost:8080/"
        },
        "id": "8DO9LMv3aMLM",
        "outputId": "8c71718b-4c14-4725-842f-81b8dc90b2c6"
      },
      "source": [
        "%cd \"/content/drive/MyDrive/Colab Notebooks/hacknu\""
      ],
      "execution_count": 8,
      "outputs": [
        {
          "output_type": "stream",
          "text": [
            "/content/drive/MyDrive/Colab Notebooks/hacknu\n"
          ],
          "name": "stdout"
        }
      ]
    },
    {
      "cell_type": "code",
      "metadata": {
        "colab": {
          "base_uri": "https://localhost:8080/"
        },
        "id": "5-EtvRj9csbT",
        "outputId": "b81dd8cf-6973-457c-e007-bd4fb601e28e"
      },
      "source": [
        "!kaggle datasets download -d snapcrack/all-the-news"
      ],
      "execution_count": null,
      "outputs": [
        {
          "output_type": "stream",
          "text": [
            "all-the-news.zip: Skipping, found more recently modified local copy (use --force to force download)\n"
          ],
          "name": "stdout"
        }
      ]
    },
    {
      "cell_type": "code",
      "metadata": {
        "id": "fLzOava2sQZK"
      },
      "source": [
        "df = pd.read_feather('articles4.f')\n",
        "# df = df.head(10)\n",
        "# df1 = pd.read_csv('articles1.csv')\n",
        "# df2 = pd.read_csv('articles2.csv')\n",
        "# df3 = pd.read_csv('articles3.csv')\n",
        "# frames = [df1, df2]\n",
        "# df = pd.concat(frames)\n",
        "# df.set_index('id', inplace=True)"
      ],
      "execution_count": 42,
      "outputs": []
    },
    {
      "cell_type": "code",
      "metadata": {
        "colab": {
          "base_uri": "https://localhost:8080/"
        },
        "id": "5b7Pj01LLZZh",
        "outputId": "d3068602-c0ac-42f0-b09d-66f5edb932b0"
      },
      "source": [
        "df.apply(lambda row: row.content[200:], axis=1) #head()"
      ],
      "execution_count": 43,
      "outputs": [
        {
          "output_type": "execute_result",
          "data": {
            "text/plain": [
              "0         twintheincomingtrumpadministrationcouldchoosetonolongerdefendtheexecutivebranchagainstthesuitwhichchallengetheadministrationsauthoritytospendbillionofdollaronhealthinsurancesubsidyforandamericanhandinghouserepublicanabigvictoryonissuebutasuddenlossofthedisputedsubsidycouldconceivablycausetheheal...\n",
              "1         ecrimescenegonecoldabandofyellowpolicetapeblowinginthebreezethesouthbronxjustacrosstheharlemriverfrommanhattanandonceshorthandforurbandysfunctionstillsuffersviolenceatlevellongagoslashedinmanyotherpartofnewyorkcityandyetthecitysefforttofightitremainsplinteredunderfundedandburdenedbyscandalinthe4...\n",
              "2         butwhattheydidnotknowwathatthefilmsstrikingappearancehadbeencreatedbyachineseimmigrantartistwhotookahisinspirationthelandscapepaintingofthesongdynastytheextentofhiscontributiontobambiwhichremainsamarkforfilmanimationwouldnotbewidelyknownfordecadelikethefilmstitlecharactertheartisttyruswongweathe...\n",
              "3         aliandarnoldpalmerinsportandthehollywooddeathofcarriefisheranddebbiereynoldsthepopmusicworldhadhanddownthebleakestyearstartwithdavidbowiewhosestagepersonaandrogynousglamrockerdancepopstarelectronicexperimentalistwaaahismusictheyearwaonlydayoldwhenthenewscamethathehaddiedofcancerat69hehadhintedth...\n",
              "4         intercontinentalballisticmissileaboldstatementlethanamonthbeforetheinaugurationofdonaldjtrumpalthoughnorthkoreahaconductedfivenucleartestinthelastdecadeandmorethan20ballisticmissiletestin2016aloneandalthoughithabituallythreatenstoattacktheunitedstatewithnuclearweaponthecountryhaneveraninterconti...\n",
              "                                                                                                                                                             ...                                                                                                                                                     \n",
              "142565    ingwaoffhewouldsaylatertwowomangotintohiscarwiththegirloutsideahouseinsacramentohalfwaytotheirdestinationaholidayinninelkgrovecaliftheyaskedavilatoturnupthemusichesaidthenthewomanturnedtothegirlavilalistenedintheyweredescribingwhattheyweregoingtodowhentheygettherecheckforgungetthemoneybeforeyous...\n",
              "142566    edfromradarscreenearlyinitflighttheuscoastguardsaidthecessnacitation525boundforohiostateuniversityairportdisappearedfromradarshortlyaftertakeofflatethursdaynightthecoastguardsaidinanewsreleasetheflighthaddepartedfromburkelakefrontairportwhichislocatedontheshoreoflakeerieinclevelandburkelakefront...\n",
              "142567    ghexpectationtheprogramgovernmentofficialsaidwouldkeepupto4millionborroweroutofforeclosureitwillgivemillionoffamilyresignedtofinancialruinachancetorebuildpresidentobamasaidataneventannouncingtheeffortbybringingdowntheforeclosurerateitwillhelpshoreuphousingpriceforeveryonesixyearlaterobamaisprepa...\n",
              "142568    hercontaineryoureadthatcorrectlyitsnotabanonplasticbagitsabanonbanningplasticbagmichiganltgovbriancalleysignedthenewpublicactintolawonwednesdayalongwith11otherbillgovricksnyderiscurrentlyonvacationoutofstatelocalnewssourcereportedandcalleyhatheauthoritytosignbillintolawinhisabsencethenewpublicac...\n",
              "142569    esearchhashownthattheavailabilityofrecreationalmarijuanaincoloradoandelsewhereishavinglittletonoeffectonteenpropensitytosmokeweedthatstheconclusionatleastoftheofficialstatisticoutofcoloradothrough2015itswhatfederaldatashownationwidethroughthisyearanditsalsobackedupbyotherfederalsurveyofdrugusein...\n",
              "Length: 142570, dtype: object"
            ]
          },
          "metadata": {
            "tags": []
          },
          "execution_count": 43
        }
      ]
    },
    {
      "cell_type": "code",
      "metadata": {
        "colab": {
          "base_uri": "https://localhost:8080/",
          "height": 265
        },
        "id": "ZcQMLq_X33Jb",
        "outputId": "f6a566b1-7846-45ff-85db-8c3510463fba"
      },
      "source": [
        "ax = df['content'].apply(len).plot.hist(bins=100, log=True)\n",
        "# ax.set_xscale('log')"
      ],
      "execution_count": 44,
      "outputs": [
        {
          "output_type": "display_data",
          "data": {
            "image/png": "[encoded data removed]",
            "text/plain": [
              "<Figure size 432x288 with 1 Axes>"
            ]
          },
          "metadata": {
            "tags": [],
            "needs_background": "light"
          }
        }
      ]
    },
    {
      "cell_type": "code",
      "metadata": {
        "id": "k7cfknn7S6PC"
      },
      "source": [
        "lemmatizer = WordNetLemmatizer()\n",
        "\n",
        "def smart_tokenize(txt):\n",
        "  tokens = nltk.word_tokenize(txt.lower())\n",
        "  # return tokens\n",
        "  return [lemmatizer.lemmatize(w) for w in tokens]\n",
        "\n",
        "def tokenize_row(row):\n",
        "  return smart_tokenize(row.content)\n",
        "\n",
        "# df['content2'] = df.apply(lambda row: nltk.word_tokenize(row.content.lower()), axis=1)"
      ],
      "execution_count": 45,
      "outputs": []
    },
    {
      "cell_type": "code",
      "metadata": {
        "id": "jL_EiuuuN3FY"
      },
      "source": [
        "# np.set_printoptions(threshold=sys.maxsize)\n",
        "# df.reset_index().to_feather('model.f')\n",
        "# df = pd.read_feather('model.f')\n",
        "# df = pd.read_csv('model.csv')"
      ],
      "execution_count": 13,
      "outputs": []
    },
    {
      "cell_type": "code",
      "metadata": {
        "colab": {
          "base_uri": "https://localhost:8080/"
        },
        "id": "tE88_3GbnRcK",
        "outputId": "11c14e48-b3df-43da-acce-c1506b7c1aed"
      },
      "source": [
        "import gc\n",
        "gc.collect()"
      ],
      "execution_count": 14,
      "outputs": [
        {
          "output_type": "execute_result",
          "data": {
            "text/plain": [
              "3144"
            ]
          },
          "metadata": {
            "tags": []
          },
          "execution_count": 14
        }
      ]
    },
    {
      "cell_type": "code",
      "metadata": {
        "id": "RQyJk3imqqVR"
      },
      "source": [
        "bm25 = BM25L(df['content2'])"
      ],
      "execution_count": 15,
      "outputs": []
    },
    {
      "cell_type": "code",
      "metadata": {
        "id": "oXWgaINmUOBl"
      },
      "source": [
        "vectorizer = TfidfVectorizer(stop_words='english', use_idf=True)\n",
        "vectors = vectorizer.fit_transform(df.apply(lambda row: ' '.join(row.content2), axis=1))"
      ],
      "execution_count": 16,
      "outputs": []
    },
    {
      "cell_type": "code",
      "metadata": {
        "id": "1RQH4c_Hki9w"
      },
      "source": [
        "def exact_match(subarr, arr):\n",
        "  if len(subarr) >= 4 and ''.join(subarr) in ''.join(arr):\n",
        "    return 1\n",
        "  return 0"
      ],
      "execution_count": 18,
      "outputs": []
    },
    {
      "cell_type": "code",
      "metadata": {
        "colab": {
          "base_uri": "https://localhost:8080/",
          "height": 380
        },
        "id": "fHL1ZoDPaQwR",
        "outputId": "37761056-618b-4ced-fa89-6131bd5c7ac3"
      },
      "source": [
        "# queries = ['presidential election', 'olympic sport in rio', 'work desk', 'Katy Perry', 'Gennifer Flowers not attending first']\n",
        "for query in [input('Enter search query:')]:\n",
        "  print('query:', query)\n",
        "  t1 = time.time()\n",
        "  tokenized_query = smart_tokenize(query)\n",
        "  doc_scores = bm25.get_scores(tokenized_query)\n",
        "  result = df[['id','title', 'year']].copy()\n",
        "  result['bm25score'] = pd.Series(doc_scores)\n",
        "  tfid_query_vector = vectorizer.transform([query])\n",
        "  result['cossim'] = (vectors * tfid_query_vector.T).todense()\n",
        "  result['exact'] = df.content.apply(lambda x: int(''.join(tokenized_query) in x))\n",
        "  result['content'] = df['content2'].apply(lambda x: ' '.join(x[:100]))\n",
        "  # result.sort_values(by=['exact'], ascending=False, inplace=True)\n",
        "  t2 = time.time() - t1\n",
        "  result.sort_values(['exact', 'bm25score'], ascending=[False, False], inplace=True)\n",
        "  ICD.display(result[['id','title', 'year', 'bm25score', 'cossim', 'exact', 'content']].head(5))\n",
        "print('elapsed:', t2, 's')"
      ],
      "execution_count": 73,
      "outputs": [
        {
          "output_type": "stream",
          "text": [
            "Enter search query:ketty perry\n",
            "query: ketty perry\n"
          ],
          "name": "stdout"
        },
        {
          "output_type": "display_data",
          "data": {
            "text/html": [
              "<div>\n",
              "<style scoped>\n",
              "    .dataframe tbody tr th:only-of-type {\n",
              "        vertical-align: middle;\n",
              "    }\n",
              "\n",
              "    .dataframe tbody tr th {\n",
              "        vertical-align: top;\n",
              "    }\n",
              "\n",
              "    .dataframe thead th {\n",
              "        text-align: right;\n",
              "    }\n",
              "</style>\n",
              "<table border=\"1\" class=\"dataframe\">\n",
              "  <thead>\n",
              "    <tr style=\"text-align: right;\">\n",
              "      <th></th>\n",
              "      <th>id</th>\n",
              "      <th>title</th>\n",
              "      <th>year</th>\n",
              "      <th>bm25score</th>\n",
              "      <th>cossim</th>\n",
              "      <th>exact</th>\n",
              "      <th>content</th>\n",
              "    </tr>\n",
              "  </thead>\n",
              "  <tbody>\n",
              "    <tr>\n",
              "      <th>131859</th>\n",
              "      <td>204536</td>\n",
              "      <td>Rick Perry expresses ‘regret’ for pledging to abolish Energy Department</td>\n",
              "      <td>2017.0</td>\n",
              "      <td>374.155352</td>\n",
              "      <td>0.772934</td>\n",
              "      <td>0</td>\n",
              "      <td>former texas governor rick perry donald trump s nominee to run the energy department parried que...</td>\n",
              "    </tr>\n",
              "    <tr>\n",
              "      <th>42070</th>\n",
              "      <td>63397</td>\n",
              "      <td>Rick Perry launches comeback bid for White House</td>\n",
              "      <td>2015.0</td>\n",
              "      <td>285.013757</td>\n",
              "      <td>0.779146</td>\n",
              "      <td>0</td>\n",
              "      <td>washington cnn this time rick perry ha nowhere to go but up four year after his first presidenti...</td>\n",
              "    </tr>\n",
              "    <tr>\n",
              "      <th>68497</th>\n",
              "      <td>104205</td>\n",
              "      <td>Back On The Trail To Help Ted Cruz, Rick Perry Says He Never Left</td>\n",
              "      <td>2016.0</td>\n",
              "      <td>274.255269</td>\n",
              "      <td>0.735125</td>\n",
              "      <td>0</td>\n",
              "      <td>iowa city iowa shortly before former texas governor rick perry dropped out of the presidential r...</td>\n",
              "    </tr>\n",
              "    <tr>\n",
              "      <th>127534</th>\n",
              "      <td>197256</td>\n",
              "      <td>Big Little Lies season finale, “You Get What You Need”: a thrilling, terrifying end to the series</td>\n",
              "      <td>2017.0</td>\n",
              "      <td>269.761796</td>\n",
              "      <td>0.394644</td>\n",
              "      <td>0</td>\n",
              "      <td>this article discus the season finale of big little lie you get what you need and contains major...</td>\n",
              "    </tr>\n",
              "    <tr>\n",
              "      <th>142227</th>\n",
              "      <td>217637</td>\n",
              "      <td>Trump taps former Texas Gov. Rick Perry to head Energy Department he once vowed to abolish</td>\n",
              "      <td>2016.0</td>\n",
              "      <td>257.669462</td>\n",
              "      <td>0.509840</td>\n",
              "      <td>0</td>\n",
              "      <td>donald trump ha picked rick perry to head the energy department said two people familiar with th...</td>\n",
              "    </tr>\n",
              "  </tbody>\n",
              "</table>\n",
              "</div>"
            ],
            "text/plain": [
              "            id  \\\n",
              "131859  204536   \n",
              "42070    63397   \n",
              "68497   104205   \n",
              "127534  197256   \n",
              "142227  217637   \n",
              "\n",
              "                                                                                                    title  \\\n",
              "131859                            Rick Perry expresses ‘regret’ for pledging to abolish Energy Department   \n",
              "42070                                                    Rick Perry launches comeback bid for White House   \n",
              "68497                                   Back On The Trail To Help Ted Cruz, Rick Perry Says He Never Left   \n",
              "127534  Big Little Lies season finale, “You Get What You Need”: a thrilling, terrifying end to the series   \n",
              "142227         Trump taps former Texas Gov. Rick Perry to head Energy Department he once vowed to abolish   \n",
              "\n",
              "          year   bm25score    cossim  exact  \\\n",
              "131859  2017.0  374.155352  0.772934      0   \n",
              "42070   2015.0  285.013757  0.779146      0   \n",
              "68497   2016.0  274.255269  0.735125      0   \n",
              "127534  2017.0  269.761796  0.394644      0   \n",
              "142227  2016.0  257.669462  0.509840      0   \n",
              "\n",
              "                                                                                                    content  \n",
              "131859  former texas governor rick perry donald trump s nominee to run the energy department parried que...  \n",
              "42070   washington cnn this time rick perry ha nowhere to go but up four year after his first presidenti...  \n",
              "68497   iowa city iowa shortly before former texas governor rick perry dropped out of the presidential r...  \n",
              "127534  this article discus the season finale of big little lie you get what you need and contains major...  \n",
              "142227  donald trump ha picked rick perry to head the energy department said two people familiar with th...  "
            ]
          },
          "metadata": {
            "tags": []
          }
        },
        {
          "output_type": "stream",
          "text": [
            "elapsed: 2.0217673778533936 s\n"
          ],
          "name": "stdout"
        }
      ]
    },
    {
      "cell_type": "code",
      "metadata": {
        "id": "8UbyjFfZDcTI"
      },
      "source": [
        "pd.set_option('max_colwidth', 100)\n",
        "pd.set_option('display.max_columns', None)"
      ],
      "execution_count": 70,
      "outputs": []
    },
    {
      "cell_type": "code",
      "metadata": {
        "colab": {
          "base_uri": "https://localhost:8080/"
        },
        "id": "a10z6Wvv1MEN",
        "outputId": "cc7a86cf-8392-41d0-ade7-dc815d5d0895"
      },
      "source": [
        "show_memory('at the end')"
      ],
      "execution_count": null,
      "outputs": [
        {
          "output_type": "stream",
          "text": [
            "Memory usage at the end: 6606.31640625 mb\n"
          ],
          "name": "stdout"
        }
      ]
    },
    {
      "cell_type": "code",
      "metadata": {
        "id": "ZP771tUxYd7K"
      },
      "source": [
        ""
      ],
      "execution_count": null,
      "outputs": []
    }
  ]
}