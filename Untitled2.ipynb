{
  "nbformat": 4,
  "nbformat_minor": 0,
  "metadata": {
    "colab": {
      "name": "Untitled2.ipynb",
      "provenance": [],
      "collapsed_sections": []
    },
    "kernelspec": {
      "name": "python3",
      "display_name": "Python 3"
    },
    "language_info": {
      "name": "python"
    }
  },
  "cells": [
    {
      "cell_type": "code",
      "metadata": {
        "colab": {
          "base_uri": "https://localhost:8080/"
        },
        "id": "XhFeXCbxaA3w",
        "outputId": "85317581-1c97-40bb-d430-757f80528853"
      },
      "source": [
        "from google.colab import drive\n",
        "drive.mount('/content/drive')"
      ],
      "execution_count": 1,
      "outputs": [
        {
          "output_type": "stream",
          "text": [
            "Drive already mounted at /content/drive; to attempt to forcibly remount, call drive.mount(\"/content/drive\", force_remount=True).\n"
          ],
          "name": "stdout"
        }
      ]
    },
    {
      "cell_type": "code",
      "metadata": {
        "id": "KDUyfhjDl1tN",
        "colab": {
          "base_uri": "https://localhost:8080/"
        },
        "outputId": "e4c5d8eb-ce7d-4b43-9118-2736ffc7b122"
      },
      "source": [
        "import os\n",
        "import sys\n",
        "import psutil\n",
        "import nltk\n",
        "import numpy as np\n",
        "from IPython.core import display as ICD\n",
        "from nltk.stem import WordNetLemmatizer\n",
        "from nltk.tokenize import RegexpTokenizer\n",
        "from rank_bm25 import BM25Okapi, BM25L, BM25Plus\n",
        "nltk.download('punkt')\n",
        "nltk.download('wordnet')\n",
        "os.environ['KAGGLE_CONFIG_DIR'] = \"/content/drive/MyDrive/Colab Notebooks/hacknu\"\n",
        "def show_memory(st):\n",
        "  process = psutil.Process(os.getpid())\n",
        "  print(f'Memory usage {st}:', process.memory_info().rss / 1024 / 1024, 'mb')"
      ],
      "execution_count": 1,
      "outputs": [
        {
          "output_type": "stream",
          "text": [
            "[nltk_data] Downloading package punkt to /root/nltk_data...\n",
            "[nltk_data]   Package punkt is already up-to-date!\n",
            "[nltk_data] Downloading package wordnet to /root/nltk_data...\n",
            "[nltk_data]   Package wordnet is already up-to-date!\n"
          ],
          "name": "stdout"
        }
      ]
    },
    {
      "cell_type": "code",
      "metadata": {
        "colab": {
          "base_uri": "https://localhost:8080/"
        },
        "id": "irT49biV0Ud6",
        "outputId": "877b30f7-94c7-4563-fa88-5728759188d6"
      },
      "source": [
        "show_memory('at start')"
      ],
      "execution_count": 2,
      "outputs": [
        {
          "output_type": "stream",
          "text": [
            "Memory usage at start: 163.10546875 mb\n"
          ],
          "name": "stdout"
        }
      ]
    },
    {
      "cell_type": "code",
      "metadata": {
        "colab": {
          "base_uri": "https://localhost:8080/"
        },
        "id": "8DO9LMv3aMLM",
        "outputId": "6c321275-f527-4a08-c6f5-2a95fc2c8553"
      },
      "source": [
        "%cd \"/content/drive/MyDrive/Colab Notebooks/hacknu\""
      ],
      "execution_count": 3,
      "outputs": [
        {
          "output_type": "stream",
          "text": [
            "/content/drive/MyDrive/Colab Notebooks/hacknu\n"
          ],
          "name": "stdout"
        }
      ]
    },
    {
      "cell_type": "code",
      "metadata": {
        "id": "QabJa6ueacOu",
        "colab": {
          "base_uri": "https://localhost:8080/"
        },
        "outputId": "549bf9b4-e229-4d36-987f-4f85aa7ca6d5"
      },
      "source": [
        "!pwd\n",
        "!pip install rank_bm25"
      ],
      "execution_count": 46,
      "outputs": [
        {
          "output_type": "stream",
          "text": [
            "/content/drive/My Drive/Colab Notebooks/hacknu\n",
            "Collecting rank_bm25\n",
            "  Downloading https://files.pythonhosted.org/packages/16/5a/23ed3132063a0684ea66fb410260c71c4ffda3b99f8f1c021d1e245401b5/rank_bm25-0.2.1-py3-none-any.whl\n",
            "Requirement already satisfied: numpy in /usr/local/lib/python3.7/dist-packages (from rank_bm25) (1.19.5)\n",
            "Installing collected packages: rank-bm25\n",
            "Successfully installed rank-bm25-0.2.1\n"
          ],
          "name": "stdout"
        }
      ]
    },
    {
      "cell_type": "code",
      "metadata": {
        "colab": {
          "base_uri": "https://localhost:8080/"
        },
        "id": "5-EtvRj9csbT",
        "outputId": "b81dd8cf-6973-457c-e007-bd4fb601e28e"
      },
      "source": [
        "!kaggle datasets download -d snapcrack/all-the-news"
      ],
      "execution_count": 8,
      "outputs": [
        {
          "output_type": "stream",
          "text": [
            "all-the-news.zip: Skipping, found more recently modified local copy (use --force to force download)\n"
          ],
          "name": "stdout"
        }
      ]
    },
    {
      "cell_type": "code",
      "metadata": {
        "id": "j77DV6dNFk6e"
      },
      "source": [
        "import pandas as pd\n",
        "from sklearn.feature_extraction.text import TfidfVectorizer"
      ],
      "execution_count": 4,
      "outputs": []
    },
    {
      "cell_type": "code",
      "metadata": {
        "id": "fLzOava2sQZK"
      },
      "source": [
        "# df = pd.read_csv('articles1.csv')\n",
        "# df = df.head(10)\n",
        "df1 = pd.read_csv('articles1.csv')\n",
        "df2 = pd.read_csv('articles2.csv')\n",
        "# df3 = pd.read_csv('articles3.csv')\n",
        "frames = [df1, df2]\n",
        "df = pd.concat(frames)\n",
        "df.set_index('id', inplace=True)"
      ],
      "execution_count": 5,
      "outputs": []
    },
    {
      "cell_type": "code",
      "metadata": {
        "colab": {
          "base_uri": "https://localhost:8080/",
          "height": 265
        },
        "id": "ZcQMLq_X33Jb",
        "outputId": "d80df052-f7f6-4a91-d079-909575d0366f"
      },
      "source": [
        "ax = df['content'].apply(len).plot.hist(bins=100, log=True)\n",
        "# ax.set_xscale('log')"
      ],
      "execution_count": 8,
      "outputs": [
        {
          "output_type": "display_data",
          "data": {
            "image/png": "[encoded data removed]",
            "text/plain": [
              "<Figure size 432x288 with 1 Axes>"
            ]
          },
          "metadata": {
            "tags": [],
            "needs_background": "light"
          }
        }
      ]
    },
    {
      "cell_type": "code",
      "metadata": {
        "id": "k7cfknn7S6PC"
      },
      "source": [
        "lemmatizer = WordNetLemmatizer()\n",
        "tokenizer = RegexpTokenizer(r'\\w+')\n",
        "def lemm(txt):\n",
        "  word_list = tokenizer.tokenize(txt.lower())\n",
        "  return [lemmatizer.lemmatize(w) for w in word_list]\n",
        "def lemmatize(row):\n",
        "  # word_list = nltk.word_tokenize(row.content)\n",
        "  return lemm(row.content)\n",
        "  # tokenizer = RegexpTokenizer(r'\\w+')\n",
        "  # word_list = tokenizer.tokenize(row.content.lower())\n",
        "  # return [lemmatizer.lemmatize(w) for w in word_list]\n",
        "df['content2'] = df.apply(lemmatize, axis=1)"
      ],
      "execution_count": null,
      "outputs": []
    },
    {
      "cell_type": "code",
      "metadata": {
        "id": "jL_EiuuuN3FY"
      },
      "source": [
        "# np.set_printoptions(threshold=sys.maxsize)\n",
        "df.reset_index().to_feather('model.f')\n",
        "# df2 = pd.read_feather('model.f')\n",
        "# df = pd.read_csv('model.csv')"
      ],
      "execution_count": 8,
      "outputs": []
    },
    {
      "cell_type": "code",
      "metadata": {
        "colab": {
          "base_uri": "https://localhost:8080/"
        },
        "id": "tE88_3GbnRcK",
        "outputId": "5883cf98-8e98-40e5-8b60-fdfc65c55b90"
      },
      "source": [
        "import gc\n",
        "gc.collect()"
      ],
      "execution_count": 36,
      "outputs": [
        {
          "output_type": "execute_result",
          "data": {
            "text/plain": [
              "413"
            ]
          },
          "metadata": {
            "tags": []
          },
          "execution_count": 36
        }
      ]
    },
    {
      "cell_type": "code",
      "metadata": {
        "id": "oXWgaINmUOBl"
      },
      "source": [
        "bm25 = BM25L(df2['content2'])"
      ],
      "execution_count": 39,
      "outputs": []
    },
    {
      "cell_type": "code",
      "metadata": {
        "colab": {
          "base_uri": "https://localhost:8080/",
          "height": 1000
        },
        "id": "fHL1ZoDPaQwR",
        "outputId": "97e3f54f-4595-4103-888c-bc85b531990f"
      },
      "source": [
        "queries = ['presidential elections in 2018', 'olympic sport in rio', 'millionaire innovator', 'Donald Trump approval’s Achilles heel']\n",
        "for query in queries:\n",
        "  print('query:', query)\n",
        "  tokenized_query = lemm(query)\n",
        "  doc_scores = bm25.get_scores(tokenized_query)\n",
        "  result = df[['id', 'title', 'year']].copy()\n",
        "  result['bm25score'] = pd.Series(doc_scores)\n",
        "  result.sort_values(by=['bm25score'], ascending=False, inplace=True)\n",
        "  ICD.display(result.head(10))"
      ],
      "execution_count": 40,
      "outputs": [
        {
          "output_type": "stream",
          "text": [
            "query: presidential elections in 2018\n"
          ],
          "name": "stdout"
        },
        {
          "output_type": "display_data",
          "data": {
            "text/html": [
              "<div>\n",
              "<style scoped>\n",
              "    .dataframe tbody tr th:only-of-type {\n",
              "        vertical-align: middle;\n",
              "    }\n",
              "\n",
              "    .dataframe tbody tr th {\n",
              "        vertical-align: top;\n",
              "    }\n",
              "\n",
              "    .dataframe thead th {\n",
              "        text-align: right;\n",
              "    }\n",
              "</style>\n",
              "<table border=\"1\" class=\"dataframe\">\n",
              "  <thead>\n",
              "    <tr style=\"text-align: right;\">\n",
              "      <th></th>\n",
              "      <th>id</th>\n",
              "      <th>title</th>\n",
              "      <th>year</th>\n",
              "      <th>bm25score</th>\n",
              "    </tr>\n",
              "  </thead>\n",
              "  <tbody>\n",
              "    <tr>\n",
              "      <th>36980</th>\n",
              "      <td>56863</td>\n",
              "      <td>How to register to vote in every US state and ...</td>\n",
              "      <td>2016.0</td>\n",
              "      <td>440.411825</td>\n",
              "    </tr>\n",
              "    <tr>\n",
              "      <th>36980</th>\n",
              "      <td>135242</td>\n",
              "      <td>Meet the woman behind Gwyneth Paltrow’s ‘sex d...</td>\n",
              "      <td>2016.0</td>\n",
              "      <td>440.411825</td>\n",
              "    </tr>\n",
              "    <tr>\n",
              "      <th>14120</th>\n",
              "      <td>32857</td>\n",
              "      <td>Democrats Face Long Odds of Taking the House B...</td>\n",
              "      <td>2017.0</td>\n",
              "      <td>257.872051</td>\n",
              "    </tr>\n",
              "    <tr>\n",
              "      <th>14120</th>\n",
              "      <td>94354</td>\n",
              "      <td>El Jefe Trumpo Matamoros</td>\n",
              "      <td>2016.0</td>\n",
              "      <td>257.872051</td>\n",
              "    </tr>\n",
              "    <tr>\n",
              "      <th>18159</th>\n",
              "      <td>103133</td>\n",
              "      <td>Trump’s War On Sanctuary Cities Has Divided L...</td>\n",
              "      <td>2017.0</td>\n",
              "      <td>214.630115</td>\n",
              "    </tr>\n",
              "    <tr>\n",
              "      <th>18159</th>\n",
              "      <td>36901</td>\n",
              "      <td>2016 Election Day: Live Updates - Breitbart</td>\n",
              "      <td>2016.0</td>\n",
              "      <td>214.630115</td>\n",
              "    </tr>\n",
              "    <tr>\n",
              "      <th>17670</th>\n",
              "      <td>101877</td>\n",
              "      <td>An AIDS Foundation Is Spending Millions Of Do...</td>\n",
              "      <td>2017.0</td>\n",
              "      <td>189.986249</td>\n",
              "    </tr>\n",
              "    <tr>\n",
              "      <th>17670</th>\n",
              "      <td>36412</td>\n",
              "      <td>Republicans May Be Positioned to Win Filibuste...</td>\n",
              "      <td>2016.0</td>\n",
              "      <td>189.986249</td>\n",
              "    </tr>\n",
              "    <tr>\n",
              "      <th>3928</th>\n",
              "      <td>21639</td>\n",
              "      <td>Real-Time Election Day Projections May Upend N...</td>\n",
              "      <td>2017.0</td>\n",
              "      <td>131.910761</td>\n",
              "    </tr>\n",
              "    <tr>\n",
              "      <th>3928</th>\n",
              "      <td>78595</td>\n",
              "      <td>The Brexit Referendum Results</td>\n",
              "      <td>2016.0</td>\n",
              "      <td>131.910761</td>\n",
              "    </tr>\n",
              "  </tbody>\n",
              "</table>\n",
              "</div>"
            ],
            "text/plain": [
              "           id  ...   bm25score\n",
              "36980   56863  ...  440.411825\n",
              "36980  135242  ...  440.411825\n",
              "14120   32857  ...  257.872051\n",
              "14120   94354  ...  257.872051\n",
              "18159  103133  ...  214.630115\n",
              "18159   36901  ...  214.630115\n",
              "17670  101877  ...  189.986249\n",
              "17670   36412  ...  189.986249\n",
              "3928    21639  ...  131.910761\n",
              "3928    78595  ...  131.910761\n",
              "\n",
              "[10 rows x 4 columns]"
            ]
          },
          "metadata": {
            "tags": []
          }
        },
        {
          "output_type": "stream",
          "text": [
            "query: olympic sport in rio\n"
          ],
          "name": "stdout"
        },
        {
          "output_type": "display_data",
          "data": {
            "text/html": [
              "<div>\n",
              "<style scoped>\n",
              "    .dataframe tbody tr th:only-of-type {\n",
              "        vertical-align: middle;\n",
              "    }\n",
              "\n",
              "    .dataframe tbody tr th {\n",
              "        vertical-align: top;\n",
              "    }\n",
              "\n",
              "    .dataframe thead th {\n",
              "        text-align: right;\n",
              "    }\n",
              "</style>\n",
              "<table border=\"1\" class=\"dataframe\">\n",
              "  <thead>\n",
              "    <tr style=\"text-align: right;\">\n",
              "      <th></th>\n",
              "      <th>id</th>\n",
              "      <th>title</th>\n",
              "      <th>year</th>\n",
              "      <th>bm25score</th>\n",
              "    </tr>\n",
              "  </thead>\n",
              "  <tbody>\n",
              "    <tr>\n",
              "      <th>36619</th>\n",
              "      <td>56434</td>\n",
              "      <td>Rio Olympics: Is Brazil ready for the 2016 Games?</td>\n",
              "      <td>2016.0</td>\n",
              "      <td>482.055793</td>\n",
              "    </tr>\n",
              "    <tr>\n",
              "      <th>36619</th>\n",
              "      <td>134859</td>\n",
              "      <td>Maury Povich talks ‘daddy’ issues</td>\n",
              "      <td>2016.0</td>\n",
              "      <td>482.055793</td>\n",
              "    </tr>\n",
              "    <tr>\n",
              "      <th>37155</th>\n",
              "      <td>135432</td>\n",
              "      <td>How Tetris broke out of the Soviet Union</td>\n",
              "      <td>2016.0</td>\n",
              "      <td>425.410913</td>\n",
              "    </tr>\n",
              "    <tr>\n",
              "      <th>37155</th>\n",
              "      <td>57069</td>\n",
              "      <td>Rio 2016: Top Olympic moments to savor</td>\n",
              "      <td>2016.0</td>\n",
              "      <td>425.410913</td>\n",
              "    </tr>\n",
              "    <tr>\n",
              "      <th>2792</th>\n",
              "      <td>77182</td>\n",
              "      <td>Understanding April’s So-So Jobs Report</td>\n",
              "      <td>2016.0</td>\n",
              "      <td>389.733543</td>\n",
              "    </tr>\n",
              "    <tr>\n",
              "      <th>2792</th>\n",
              "      <td>20391</td>\n",
              "      <td>Entrusted to Save Brazil: The Party That Ruine...</td>\n",
              "      <td>2017.0</td>\n",
              "      <td>389.733543</td>\n",
              "    </tr>\n",
              "    <tr>\n",
              "      <th>3370</th>\n",
              "      <td>21021</td>\n",
              "      <td>Sports Court Upholds Ban on Russian Track and ...</td>\n",
              "      <td>2016.0</td>\n",
              "      <td>353.906154</td>\n",
              "    </tr>\n",
              "    <tr>\n",
              "      <th>3370</th>\n",
              "      <td>77924</td>\n",
              "      <td>Trump’s Angry Broadside Against Muslims and Im...</td>\n",
              "      <td>2016.0</td>\n",
              "      <td>353.906154</td>\n",
              "    </tr>\n",
              "    <tr>\n",
              "      <th>3472</th>\n",
              "      <td>78037</td>\n",
              "      <td>Back When Trump Had a Shot at ’Person of the C...</td>\n",
              "      <td>2016.0</td>\n",
              "      <td>321.096243</td>\n",
              "    </tr>\n",
              "    <tr>\n",
              "      <th>3472</th>\n",
              "      <td>21136</td>\n",
              "      <td>Olympic Officials Set Russia’s Roster More Tha...</td>\n",
              "      <td>2016.0</td>\n",
              "      <td>321.096243</td>\n",
              "    </tr>\n",
              "  </tbody>\n",
              "</table>\n",
              "</div>"
            ],
            "text/plain": [
              "           id  ...   bm25score\n",
              "36619   56434  ...  482.055793\n",
              "36619  134859  ...  482.055793\n",
              "37155  135432  ...  425.410913\n",
              "37155   57069  ...  425.410913\n",
              "2792    77182  ...  389.733543\n",
              "2792    20391  ...  389.733543\n",
              "3370    21021  ...  353.906154\n",
              "3370    77924  ...  353.906154\n",
              "3472    78037  ...  321.096243\n",
              "3472    21136  ...  321.096243\n",
              "\n",
              "[10 rows x 4 columns]"
            ]
          },
          "metadata": {
            "tags": []
          }
        },
        {
          "output_type": "stream",
          "text": [
            "query: millionaire innovator\n"
          ],
          "name": "stdout"
        },
        {
          "output_type": "display_data",
          "data": {
            "text/html": [
              "<div>\n",
              "<style scoped>\n",
              "    .dataframe tbody tr th:only-of-type {\n",
              "        vertical-align: middle;\n",
              "    }\n",
              "\n",
              "    .dataframe tbody tr th {\n",
              "        vertical-align: top;\n",
              "    }\n",
              "\n",
              "    .dataframe thead th {\n",
              "        text-align: right;\n",
              "    }\n",
              "</style>\n",
              "<table border=\"1\" class=\"dataframe\">\n",
              "  <thead>\n",
              "    <tr style=\"text-align: right;\">\n",
              "      <th></th>\n",
              "      <th>id</th>\n",
              "      <th>title</th>\n",
              "      <th>year</th>\n",
              "      <th>bm25score</th>\n",
              "    </tr>\n",
              "  </thead>\n",
              "  <tbody>\n",
              "    <tr>\n",
              "      <th>49222</th>\n",
              "      <td>72447</td>\n",
              "      <td>I spent 5 years studying rich people — here ar...</td>\n",
              "      <td>2016.0</td>\n",
              "      <td>71.906728</td>\n",
              "    </tr>\n",
              "    <tr>\n",
              "      <th>49222</th>\n",
              "      <td>150901</td>\n",
              "      <td>Assad says Syria chemical attack that killed d...</td>\n",
              "      <td>2017.0</td>\n",
              "      <td>71.906728</td>\n",
              "    </tr>\n",
              "    <tr>\n",
              "      <th>15679</th>\n",
              "      <td>34416</td>\n",
              "      <td>Hugh Hewitt: Donald Trump Is A Disruptive Inno...</td>\n",
              "      <td>2016.0</td>\n",
              "      <td>40.827417</td>\n",
              "    </tr>\n",
              "    <tr>\n",
              "      <th>15679</th>\n",
              "      <td>97788</td>\n",
              "      <td>Meet the Helmet-Haired Archeo Trump</td>\n",
              "      <td>2016.0</td>\n",
              "      <td>40.827417</td>\n",
              "    </tr>\n",
              "    <tr>\n",
              "      <th>45860</th>\n",
              "      <td>146510</td>\n",
              "      <td>A moment that changed me: learning people disl...</td>\n",
              "      <td>2017.0</td>\n",
              "      <td>36.073951</td>\n",
              "    </tr>\n",
              "    <tr>\n",
              "      <th>45860</th>\n",
              "      <td>68240</td>\n",
              "      <td>9 things to do in your 20s to become a million...</td>\n",
              "      <td>2016.0</td>\n",
              "      <td>36.073951</td>\n",
              "    </tr>\n",
              "    <tr>\n",
              "      <th>47456</th>\n",
              "      <td>70277</td>\n",
              "      <td>11 things to do in your 20s to become a millio...</td>\n",
              "      <td>2016.0</td>\n",
              "      <td>35.566566</td>\n",
              "    </tr>\n",
              "    <tr>\n",
              "      <th>47456</th>\n",
              "      <td>148533</td>\n",
              "      <td>Roger Federer eyes Wimbledon success after Aus...</td>\n",
              "      <td>2017.0</td>\n",
              "      <td>35.566566</td>\n",
              "    </tr>\n",
              "    <tr>\n",
              "      <th>35469</th>\n",
              "      <td>55065</td>\n",
              "      <td>Introducing Myanmar’s ’Geek Girls’</td>\n",
              "      <td>2017.0</td>\n",
              "      <td>26.999420</td>\n",
              "    </tr>\n",
              "    <tr>\n",
              "      <th>35469</th>\n",
              "      <td>132641</td>\n",
              "      <td>Natalie Portman is latest celeb lured by posh ...</td>\n",
              "      <td>2017.0</td>\n",
              "      <td>26.999420</td>\n",
              "    </tr>\n",
              "  </tbody>\n",
              "</table>\n",
              "</div>"
            ],
            "text/plain": [
              "           id  ...  bm25score\n",
              "49222   72447  ...  71.906728\n",
              "49222  150901  ...  71.906728\n",
              "15679   34416  ...  40.827417\n",
              "15679   97788  ...  40.827417\n",
              "45860  146510  ...  36.073951\n",
              "45860   68240  ...  36.073951\n",
              "47456   70277  ...  35.566566\n",
              "47456  148533  ...  35.566566\n",
              "35469   55065  ...  26.999420\n",
              "35469  132641  ...  26.999420\n",
              "\n",
              "[10 rows x 4 columns]"
            ]
          },
          "metadata": {
            "tags": []
          }
        },
        {
          "output_type": "stream",
          "text": [
            "query: Donald Trump approval’s Achilles heel\n"
          ],
          "name": "stdout"
        },
        {
          "output_type": "display_data",
          "data": {
            "text/html": [
              "<div>\n",
              "<style scoped>\n",
              "    .dataframe tbody tr th:only-of-type {\n",
              "        vertical-align: middle;\n",
              "    }\n",
              "\n",
              "    .dataframe tbody tr th {\n",
              "        vertical-align: top;\n",
              "    }\n",
              "\n",
              "    .dataframe thead th {\n",
              "        text-align: right;\n",
              "    }\n",
              "</style>\n",
              "<table border=\"1\" class=\"dataframe\">\n",
              "  <thead>\n",
              "    <tr style=\"text-align: right;\">\n",
              "      <th></th>\n",
              "      <th>id</th>\n",
              "      <th>title</th>\n",
              "      <th>year</th>\n",
              "      <th>bm25score</th>\n",
              "    </tr>\n",
              "  </thead>\n",
              "  <tbody>\n",
              "    <tr>\n",
              "      <th>22223</th>\n",
              "      <td>115695</td>\n",
              "      <td>O.J. and Us</td>\n",
              "      <td>2017.0</td>\n",
              "      <td>972.309388</td>\n",
              "    </tr>\n",
              "    <tr>\n",
              "      <th>22223</th>\n",
              "      <td>40973</td>\n",
              "      <td>***Horse Race LiveWire*** Nevada Votes: Trump ...</td>\n",
              "      <td>2016.0</td>\n",
              "      <td>972.309388</td>\n",
              "    </tr>\n",
              "    <tr>\n",
              "      <th>17533</th>\n",
              "      <td>101544</td>\n",
              "      <td>This Pregnant Woman Imitated April The Giraff...</td>\n",
              "      <td>2017.0</td>\n",
              "      <td>828.797669</td>\n",
              "    </tr>\n",
              "    <tr>\n",
              "      <th>17533</th>\n",
              "      <td>36274</td>\n",
              "      <td>***Horse Race LiveWire*** 2 Days to South Caro...</td>\n",
              "      <td>2016.0</td>\n",
              "      <td>828.797669</td>\n",
              "    </tr>\n",
              "    <tr>\n",
              "      <th>26536</th>\n",
              "      <td>120881</td>\n",
              "      <td>Is the Race Now Trump’s to Lose?</td>\n",
              "      <td>2016.0</td>\n",
              "      <td>818.600989</td>\n",
              "    </tr>\n",
              "    <tr>\n",
              "      <th>26536</th>\n",
              "      <td>45297</td>\n",
              "      <td>***Horse Race LiveWire*** GOP Candidates Debat...</td>\n",
              "      <td>2016.0</td>\n",
              "      <td>818.600989</td>\n",
              "    </tr>\n",
              "    <tr>\n",
              "      <th>30214</th>\n",
              "      <td>125845</td>\n",
              "      <td>Trump says government will have to ‘do more wi...</td>\n",
              "      <td>2017.0</td>\n",
              "      <td>780.161419</td>\n",
              "    </tr>\n",
              "    <tr>\n",
              "      <th>30214</th>\n",
              "      <td>48987</td>\n",
              "      <td>***Horse Race LiveWire*** Trump: ’We’re Going ...</td>\n",
              "      <td>2016.0</td>\n",
              "      <td>780.161419</td>\n",
              "    </tr>\n",
              "    <tr>\n",
              "      <th>24996</th>\n",
              "      <td>43754</td>\n",
              "      <td>***Horse Race LiveWire*** GOP Candidates Debat...</td>\n",
              "      <td>2016.0</td>\n",
              "      <td>652.890937</td>\n",
              "    </tr>\n",
              "    <tr>\n",
              "      <th>24996</th>\n",
              "      <td>119044</td>\n",
              "      <td>Doses of Dos Passos, Part II</td>\n",
              "      <td>2016.0</td>\n",
              "      <td>652.890937</td>\n",
              "    </tr>\n",
              "  </tbody>\n",
              "</table>\n",
              "</div>"
            ],
            "text/plain": [
              "           id  ...   bm25score\n",
              "22223  115695  ...  972.309388\n",
              "22223   40973  ...  972.309388\n",
              "17533  101544  ...  828.797669\n",
              "17533   36274  ...  828.797669\n",
              "26536  120881  ...  818.600989\n",
              "26536   45297  ...  818.600989\n",
              "30214  125845  ...  780.161419\n",
              "30214   48987  ...  780.161419\n",
              "24996   43754  ...  652.890937\n",
              "24996  119044  ...  652.890937\n",
              "\n",
              "[10 rows x 4 columns]"
            ]
          },
          "metadata": {
            "tags": []
          }
        }
      ]
    },
    {
      "cell_type": "code",
      "metadata": {
        "id": "q0QQHEbavRnX",
        "colab": {
          "base_uri": "https://localhost:8080/",
          "height": 337
        },
        "outputId": "70530de4-df20-4b95-eb0f-91bf9f74a4e4"
      },
      "source": [
        "vectorizer = TfidfVectorizer(stop_words='english', use_idf=True)\n",
        "vectors = vectorizer.fit_transform(df.apply(lambda row: ' '.join(row.content2), axis=1))\n",
        "vectors"
      ],
      "execution_count": 10,
      "outputs": [
        {
          "output_type": "error",
          "ename": "ValueError",
          "evalue": "ignored",
          "traceback": [
            "\u001b[0;31m---------------------------------------------------------------------------\u001b[0m",
            "\u001b[0;31mValueError\u001b[0m                                Traceback (most recent call last)",
            "\u001b[0;32m<ipython-input-10-b9c2036052d9>\u001b[0m in \u001b[0;36m<module>\u001b[0;34m()\u001b[0m\n\u001b[1;32m      1\u001b[0m \u001b[0mvectorizer\u001b[0m \u001b[0;34m=\u001b[0m \u001b[0mTfidfVectorizer\u001b[0m\u001b[0;34m(\u001b[0m\u001b[0mstop_words\u001b[0m\u001b[0;34m=\u001b[0m\u001b[0;34m'english'\u001b[0m\u001b[0;34m,\u001b[0m \u001b[0muse_idf\u001b[0m\u001b[0;34m=\u001b[0m\u001b[0;32mTrue\u001b[0m\u001b[0;34m)\u001b[0m\u001b[0;34m\u001b[0m\u001b[0;34m\u001b[0m\u001b[0m\n\u001b[0;32m----> 2\u001b[0;31m \u001b[0mvectors\u001b[0m \u001b[0;34m=\u001b[0m \u001b[0mvectorizer\u001b[0m\u001b[0;34m.\u001b[0m\u001b[0mfit_transform\u001b[0m\u001b[0;34m(\u001b[0m\u001b[0mdf\u001b[0m\u001b[0;34m.\u001b[0m\u001b[0mapply\u001b[0m\u001b[0;34m(\u001b[0m\u001b[0;32mlambda\u001b[0m \u001b[0mrow\u001b[0m\u001b[0;34m:\u001b[0m \u001b[0;34m' '\u001b[0m\u001b[0;34m.\u001b[0m\u001b[0mjoin\u001b[0m\u001b[0;34m(\u001b[0m\u001b[0mrow\u001b[0m\u001b[0;34m.\u001b[0m\u001b[0mcontent2\u001b[0m\u001b[0;34m)\u001b[0m\u001b[0;34m,\u001b[0m \u001b[0maxis\u001b[0m\u001b[0;34m=\u001b[0m\u001b[0;36m1\u001b[0m\u001b[0;34m)\u001b[0m\u001b[0;34m)\u001b[0m\u001b[0;34m\u001b[0m\u001b[0;34m\u001b[0m\u001b[0m\n\u001b[0m\u001b[1;32m      3\u001b[0m \u001b[0mvectors\u001b[0m\u001b[0;34m\u001b[0m\u001b[0;34m\u001b[0m\u001b[0m\n",
            "\u001b[0;32m/usr/local/lib/python3.7/dist-packages/sklearn/feature_extraction/text.py\u001b[0m in \u001b[0;36mfit_transform\u001b[0;34m(self, raw_documents, y)\u001b[0m\n\u001b[1;32m   1857\u001b[0m         \"\"\"\n\u001b[1;32m   1858\u001b[0m         \u001b[0mself\u001b[0m\u001b[0;34m.\u001b[0m\u001b[0m_check_params\u001b[0m\u001b[0;34m(\u001b[0m\u001b[0;34m)\u001b[0m\u001b[0;34m\u001b[0m\u001b[0;34m\u001b[0m\u001b[0m\n\u001b[0;32m-> 1859\u001b[0;31m         \u001b[0mX\u001b[0m \u001b[0;34m=\u001b[0m \u001b[0msuper\u001b[0m\u001b[0;34m(\u001b[0m\u001b[0;34m)\u001b[0m\u001b[0;34m.\u001b[0m\u001b[0mfit_transform\u001b[0m\u001b[0;34m(\u001b[0m\u001b[0mraw_documents\u001b[0m\u001b[0;34m)\u001b[0m\u001b[0;34m\u001b[0m\u001b[0;34m\u001b[0m\u001b[0m\n\u001b[0m\u001b[1;32m   1860\u001b[0m         \u001b[0mself\u001b[0m\u001b[0;34m.\u001b[0m\u001b[0m_tfidf\u001b[0m\u001b[0;34m.\u001b[0m\u001b[0mfit\u001b[0m\u001b[0;34m(\u001b[0m\u001b[0mX\u001b[0m\u001b[0;34m)\u001b[0m\u001b[0;34m\u001b[0m\u001b[0;34m\u001b[0m\u001b[0m\n\u001b[1;32m   1861\u001b[0m         \u001b[0;31m# X is already a transformed view of raw_documents so\u001b[0m\u001b[0;34m\u001b[0m\u001b[0;34m\u001b[0m\u001b[0;34m\u001b[0m\u001b[0m\n",
            "\u001b[0;32m/usr/local/lib/python3.7/dist-packages/sklearn/feature_extraction/text.py\u001b[0m in \u001b[0;36mfit_transform\u001b[0;34m(self, raw_documents, y)\u001b[0m\n\u001b[1;32m   1218\u001b[0m \u001b[0;34m\u001b[0m\u001b[0m\n\u001b[1;32m   1219\u001b[0m         vocabulary, X = self._count_vocab(raw_documents,\n\u001b[0;32m-> 1220\u001b[0;31m                                           self.fixed_vocabulary_)\n\u001b[0m\u001b[1;32m   1221\u001b[0m \u001b[0;34m\u001b[0m\u001b[0m\n\u001b[1;32m   1222\u001b[0m         \u001b[0;32mif\u001b[0m \u001b[0mself\u001b[0m\u001b[0;34m.\u001b[0m\u001b[0mbinary\u001b[0m\u001b[0;34m:\u001b[0m\u001b[0;34m\u001b[0m\u001b[0;34m\u001b[0m\u001b[0m\n",
            "\u001b[0;32m/usr/local/lib/python3.7/dist-packages/sklearn/feature_extraction/text.py\u001b[0m in \u001b[0;36m_count_vocab\u001b[0;34m(self, raw_documents, fixed_vocab)\u001b[0m\n\u001b[1;32m   1148\u001b[0m             \u001b[0mvocabulary\u001b[0m \u001b[0;34m=\u001b[0m \u001b[0mdict\u001b[0m\u001b[0;34m(\u001b[0m\u001b[0mvocabulary\u001b[0m\u001b[0;34m)\u001b[0m\u001b[0;34m\u001b[0m\u001b[0;34m\u001b[0m\u001b[0m\n\u001b[1;32m   1149\u001b[0m             \u001b[0;32mif\u001b[0m \u001b[0;32mnot\u001b[0m \u001b[0mvocabulary\u001b[0m\u001b[0;34m:\u001b[0m\u001b[0;34m\u001b[0m\u001b[0;34m\u001b[0m\u001b[0m\n\u001b[0;32m-> 1150\u001b[0;31m                 raise ValueError(\"empty vocabulary; perhaps the documents only\"\n\u001b[0m\u001b[1;32m   1151\u001b[0m                                  \" contain stop words\")\n\u001b[1;32m   1152\u001b[0m \u001b[0;34m\u001b[0m\u001b[0m\n",
            "\u001b[0;31mValueError\u001b[0m: empty vocabulary; perhaps the documents only contain stop words"
          ]
        }
      ]
    },
    {
      "cell_type": "code",
      "metadata": {
        "id": "8UbyjFfZDcTI"
      },
      "source": [
        "pd.set_option('max_colwidth', 100)"
      ],
      "execution_count": 13,
      "outputs": []
    },
    {
      "cell_type": "code",
      "metadata": {
        "id": "a7w3d79hyQW7",
        "colab": {
          "base_uri": "https://localhost:8080/",
          "height": 387
        },
        "outputId": "ea8d9a4a-45ce-440d-898b-d91b1020914e"
      },
      "source": [
        "for query in queries:\n",
        "  print('query:', query)\n",
        "  query_vector = vectorizer.transform([query])\n",
        "  result = df2[['id', 'title', 'year']].copy()\n",
        "  result['cossim'] = (vectors * query_vector.T).todense()\n",
        "  result.sort_values(by=['cossim'], ascending=False, inplace=True)\n",
        "  ICD.display(result.head(10))"
      ],
      "execution_count": 41,
      "outputs": [
        {
          "output_type": "stream",
          "text": [
            "query: presidential elections in 2018\n"
          ],
          "name": "stdout"
        },
        {
          "output_type": "error",
          "ename": "NotFittedError",
          "evalue": "ignored",
          "traceback": [
            "\u001b[0;31m---------------------------------------------------------------------------\u001b[0m",
            "\u001b[0;31mNotFittedError\u001b[0m                            Traceback (most recent call last)",
            "\u001b[0;32m<ipython-input-41-e0e9a4c24333>\u001b[0m in \u001b[0;36m<module>\u001b[0;34m()\u001b[0m\n\u001b[1;32m      1\u001b[0m \u001b[0;32mfor\u001b[0m \u001b[0mquery\u001b[0m \u001b[0;32min\u001b[0m \u001b[0mqueries\u001b[0m\u001b[0;34m:\u001b[0m\u001b[0;34m\u001b[0m\u001b[0;34m\u001b[0m\u001b[0m\n\u001b[1;32m      2\u001b[0m   \u001b[0mprint\u001b[0m\u001b[0;34m(\u001b[0m\u001b[0;34m'query:'\u001b[0m\u001b[0;34m,\u001b[0m \u001b[0mquery\u001b[0m\u001b[0;34m)\u001b[0m\u001b[0;34m\u001b[0m\u001b[0;34m\u001b[0m\u001b[0m\n\u001b[0;32m----> 3\u001b[0;31m   \u001b[0mquery_vector\u001b[0m \u001b[0;34m=\u001b[0m \u001b[0mvectorizer\u001b[0m\u001b[0;34m.\u001b[0m\u001b[0mtransform\u001b[0m\u001b[0;34m(\u001b[0m\u001b[0;34m[\u001b[0m\u001b[0mquery\u001b[0m\u001b[0;34m]\u001b[0m\u001b[0;34m)\u001b[0m\u001b[0;34m\u001b[0m\u001b[0;34m\u001b[0m\u001b[0m\n\u001b[0m\u001b[1;32m      4\u001b[0m   \u001b[0mresult\u001b[0m \u001b[0;34m=\u001b[0m \u001b[0mdf2\u001b[0m\u001b[0;34m[\u001b[0m\u001b[0;34m[\u001b[0m\u001b[0;34m'id'\u001b[0m\u001b[0;34m,\u001b[0m \u001b[0;34m'title'\u001b[0m\u001b[0;34m,\u001b[0m \u001b[0;34m'year'\u001b[0m\u001b[0;34m]\u001b[0m\u001b[0;34m]\u001b[0m\u001b[0;34m.\u001b[0m\u001b[0mcopy\u001b[0m\u001b[0;34m(\u001b[0m\u001b[0;34m)\u001b[0m\u001b[0;34m\u001b[0m\u001b[0;34m\u001b[0m\u001b[0m\n\u001b[1;32m      5\u001b[0m   \u001b[0mresult\u001b[0m\u001b[0;34m[\u001b[0m\u001b[0;34m'cossim'\u001b[0m\u001b[0;34m]\u001b[0m \u001b[0;34m=\u001b[0m \u001b[0;34m(\u001b[0m\u001b[0mvectors\u001b[0m \u001b[0;34m*\u001b[0m \u001b[0mquery_vector\u001b[0m\u001b[0;34m.\u001b[0m\u001b[0mT\u001b[0m\u001b[0;34m)\u001b[0m\u001b[0;34m.\u001b[0m\u001b[0mtodense\u001b[0m\u001b[0;34m(\u001b[0m\u001b[0;34m)\u001b[0m\u001b[0;34m\u001b[0m\u001b[0;34m\u001b[0m\u001b[0m\n",
            "\u001b[0;32m/usr/local/lib/python3.7/dist-packages/sklearn/feature_extraction/text.py\u001b[0m in \u001b[0;36mtransform\u001b[0;34m(self, raw_documents, copy)\u001b[0m\n\u001b[1;32m   1896\u001b[0m                    \"be removed in 0.24.\")\n\u001b[1;32m   1897\u001b[0m             \u001b[0mwarnings\u001b[0m\u001b[0;34m.\u001b[0m\u001b[0mwarn\u001b[0m\u001b[0;34m(\u001b[0m\u001b[0mmsg\u001b[0m\u001b[0;34m,\u001b[0m \u001b[0mFutureWarning\u001b[0m\u001b[0;34m)\u001b[0m\u001b[0;34m\u001b[0m\u001b[0;34m\u001b[0m\u001b[0m\n\u001b[0;32m-> 1898\u001b[0;31m         \u001b[0mX\u001b[0m \u001b[0;34m=\u001b[0m \u001b[0msuper\u001b[0m\u001b[0;34m(\u001b[0m\u001b[0;34m)\u001b[0m\u001b[0;34m.\u001b[0m\u001b[0mtransform\u001b[0m\u001b[0;34m(\u001b[0m\u001b[0mraw_documents\u001b[0m\u001b[0;34m)\u001b[0m\u001b[0;34m\u001b[0m\u001b[0;34m\u001b[0m\u001b[0m\n\u001b[0m\u001b[1;32m   1899\u001b[0m         \u001b[0;32mreturn\u001b[0m \u001b[0mself\u001b[0m\u001b[0;34m.\u001b[0m\u001b[0m_tfidf\u001b[0m\u001b[0;34m.\u001b[0m\u001b[0mtransform\u001b[0m\u001b[0;34m(\u001b[0m\u001b[0mX\u001b[0m\u001b[0;34m,\u001b[0m \u001b[0mcopy\u001b[0m\u001b[0;34m=\u001b[0m\u001b[0;32mFalse\u001b[0m\u001b[0;34m)\u001b[0m\u001b[0;34m\u001b[0m\u001b[0;34m\u001b[0m\u001b[0m\n\u001b[1;32m   1900\u001b[0m \u001b[0;34m\u001b[0m\u001b[0m\n",
            "\u001b[0;32m/usr/local/lib/python3.7/dist-packages/sklearn/feature_extraction/text.py\u001b[0m in \u001b[0;36mtransform\u001b[0;34m(self, raw_documents)\u001b[0m\n\u001b[1;32m   1265\u001b[0m                 \u001b[0;34m\"Iterable over raw text documents expected, \"\u001b[0m\u001b[0;34m\u001b[0m\u001b[0;34m\u001b[0m\u001b[0m\n\u001b[1;32m   1266\u001b[0m                 \"string object received.\")\n\u001b[0;32m-> 1267\u001b[0;31m         \u001b[0mself\u001b[0m\u001b[0;34m.\u001b[0m\u001b[0m_check_vocabulary\u001b[0m\u001b[0;34m(\u001b[0m\u001b[0;34m)\u001b[0m\u001b[0;34m\u001b[0m\u001b[0;34m\u001b[0m\u001b[0m\n\u001b[0m\u001b[1;32m   1268\u001b[0m \u001b[0;34m\u001b[0m\u001b[0m\n\u001b[1;32m   1269\u001b[0m         \u001b[0;31m# use the same matrix-building strategy as fit_transform\u001b[0m\u001b[0;34m\u001b[0m\u001b[0;34m\u001b[0m\u001b[0;34m\u001b[0m\u001b[0m\n",
            "\u001b[0;32m/usr/local/lib/python3.7/dist-packages/sklearn/feature_extraction/text.py\u001b[0m in \u001b[0;36m_check_vocabulary\u001b[0;34m(self)\u001b[0m\n\u001b[1;32m    488\u001b[0m             \u001b[0mself\u001b[0m\u001b[0;34m.\u001b[0m\u001b[0m_validate_vocabulary\u001b[0m\u001b[0;34m(\u001b[0m\u001b[0;34m)\u001b[0m\u001b[0;34m\u001b[0m\u001b[0;34m\u001b[0m\u001b[0m\n\u001b[1;32m    489\u001b[0m             \u001b[0;32mif\u001b[0m \u001b[0;32mnot\u001b[0m \u001b[0mself\u001b[0m\u001b[0;34m.\u001b[0m\u001b[0mfixed_vocabulary_\u001b[0m\u001b[0;34m:\u001b[0m\u001b[0;34m\u001b[0m\u001b[0;34m\u001b[0m\u001b[0m\n\u001b[0;32m--> 490\u001b[0;31m                 \u001b[0;32mraise\u001b[0m \u001b[0mNotFittedError\u001b[0m\u001b[0;34m(\u001b[0m\u001b[0;34m\"Vocabulary not fitted or provided\"\u001b[0m\u001b[0;34m)\u001b[0m\u001b[0;34m\u001b[0m\u001b[0;34m\u001b[0m\u001b[0m\n\u001b[0m\u001b[1;32m    491\u001b[0m \u001b[0;34m\u001b[0m\u001b[0m\n\u001b[1;32m    492\u001b[0m         \u001b[0;32mif\u001b[0m \u001b[0mlen\u001b[0m\u001b[0;34m(\u001b[0m\u001b[0mself\u001b[0m\u001b[0;34m.\u001b[0m\u001b[0mvocabulary_\u001b[0m\u001b[0;34m)\u001b[0m \u001b[0;34m==\u001b[0m \u001b[0;36m0\u001b[0m\u001b[0;34m:\u001b[0m\u001b[0;34m\u001b[0m\u001b[0;34m\u001b[0m\u001b[0m\n",
            "\u001b[0;31mNotFittedError\u001b[0m: Vocabulary not fitted or provided"
          ]
        }
      ]
    },
    {
      "cell_type": "code",
      "metadata": {
        "colab": {
          "base_uri": "https://localhost:8080/"
        },
        "id": "a10z6Wvv1MEN",
        "outputId": "988c3bbf-64bc-4eea-f8c2-b43b86abf0de"
      },
      "source": [
        "show_memory('at the end')"
      ],
      "execution_count": 26,
      "outputs": [
        {
          "output_type": "stream",
          "text": [
            "Memory usage at the end: 9556.046875 mb\n"
          ],
          "name": "stdout"
        }
      ]
    },
    {
      "cell_type": "code",
      "metadata": {
        "colab": {
          "base_uri": "https://localhost:8080/",
          "height": 343
        },
        "id": "t_dqyg_fDlrO",
        "outputId": "f00758c0-4f6c-4e90-cfd2-280e0e345961"
      },
      "source": [
        "result.head(10)"
      ],
      "execution_count": 15,
      "outputs": [
        {
          "output_type": "execute_result",
          "data": {
            "text/html": [
              "<div>\n",
              "<style scoped>\n",
              "    .dataframe tbody tr th:only-of-type {\n",
              "        vertical-align: middle;\n",
              "    }\n",
              "\n",
              "    .dataframe tbody tr th {\n",
              "        vertical-align: top;\n",
              "    }\n",
              "\n",
              "    .dataframe thead th {\n",
              "        text-align: right;\n",
              "    }\n",
              "</style>\n",
              "<table border=\"1\" class=\"dataframe\">\n",
              "  <thead>\n",
              "    <tr style=\"text-align: right;\">\n",
              "      <th></th>\n",
              "      <th>title</th>\n",
              "      <th>cossim</th>\n",
              "    </tr>\n",
              "  </thead>\n",
              "  <tbody>\n",
              "    <tr>\n",
              "      <th>49976</th>\n",
              "      <td>The U.S. Supreme Court Puts North Carolina’s 2017 Elections on Hold</td>\n",
              "      <td>0.342272</td>\n",
              "    </tr>\n",
              "    <tr>\n",
              "      <th>19873</th>\n",
              "      <td>Watch: Obama in 2008 Boasts to Ohioans ’It Helps’ That Dems Are ’in Charge of’ Voting Machines - Breitbart</td>\n",
              "      <td>0.294177</td>\n",
              "    </tr>\n",
              "    <tr>\n",
              "      <th>18301</th>\n",
              "      <td>Democrat-Run Cities Push Plans to Let Non-Citizens Vote - Breitbart</td>\n",
              "      <td>0.271139</td>\n",
              "    </tr>\n",
              "    <tr>\n",
              "      <th>22817</th>\n",
              "      <td>Limbaugh Rips Dems, Media for Attacking Trump for ’Rigged Election’ Remarks While Claiming Russians Are Trying to ’Rig’ U.S. Election - Breitbart</td>\n",
              "      <td>0.257612</td>\n",
              "    </tr>\n",
              "    <tr>\n",
              "      <th>49101</th>\n",
              "      <td>Why the FBI’s ’October surprise’ probably won’t hurt Hillary Clinton</td>\n",
              "      <td>0.252041</td>\n",
              "    </tr>\n",
              "    <tr>\n",
              "      <th>16236</th>\n",
              "      <td>FLASHBACK- Washington Post in 2014: Non-Citizen Voting Gave Democrats 60th Vote for Obamacare - Breitbart</td>\n",
              "      <td>0.249196</td>\n",
              "    </tr>\n",
              "    <tr>\n",
              "      <th>19652</th>\n",
              "      <td>Le Pen Takes Commanding Lead in Presidential Election Polls</td>\n",
              "      <td>0.218802</td>\n",
              "    </tr>\n",
              "    <tr>\n",
              "      <th>21427</th>\n",
              "      <td>Watch Live: Second Presidential Debate in St. Louis - Breitbart</td>\n",
              "      <td>0.213374</td>\n",
              "    </tr>\n",
              "    <tr>\n",
              "      <th>6734</th>\n",
              "      <td>Critics See Efforts by Counties and Towns to Purge Minority Voters From Rolls - The New York Times</td>\n",
              "      <td>0.207656</td>\n",
              "    </tr>\n",
              "    <tr>\n",
              "      <th>31223</th>\n",
              "      <td>Colin Kaepernick Never Even Registered to Vote - Breitbart</td>\n",
              "      <td>0.201412</td>\n",
              "    </tr>\n",
              "  </tbody>\n",
              "</table>\n",
              "</div>"
            ],
            "text/plain": [
              "                                                                                                                                                   title    cossim\n",
              "49976                                                                                The U.S. Supreme Court Puts North Carolina’s 2017 Elections on Hold  0.342272\n",
              "19873                                         Watch: Obama in 2008 Boasts to Ohioans ’It Helps’ That Dems Are ’in Charge of’ Voting Machines - Breitbart  0.294177\n",
              "18301                                                                                Democrat-Run Cities Push Plans to Let Non-Citizens Vote - Breitbart  0.271139\n",
              "22817  Limbaugh Rips Dems, Media for Attacking Trump for ’Rigged Election’ Remarks While Claiming Russians Are Trying to ’Rig’ U.S. Election - Breitbart  0.257612\n",
              "49101                                                                               Why the FBI’s ’October surprise’ probably won’t hurt Hillary Clinton  0.252041\n",
              "16236                                          FLASHBACK- Washington Post in 2014: Non-Citizen Voting Gave Democrats 60th Vote for Obamacare - Breitbart  0.249196\n",
              "19652                                                                                        Le Pen Takes Commanding Lead in Presidential Election Polls  0.218802\n",
              "21427                                                                                    Watch Live: Second Presidential Debate in St. Louis - Breitbart  0.213374\n",
              "6734                                                  Critics See Efforts by Counties and Towns to Purge Minority Voters From Rolls - The New York Times  0.207656\n",
              "31223                                                                                         Colin Kaepernick Never Even Registered to Vote - Breitbart  0.201412"
            ]
          },
          "metadata": {
            "tags": []
          },
          "execution_count": 15
        }
      ]
    },
    {
      "cell_type": "code",
      "metadata": {
        "id": "md-0q8_K1PFZ"
      },
      "source": [
        ""
      ],
      "execution_count": null,
      "outputs": []
    }
  ]
}