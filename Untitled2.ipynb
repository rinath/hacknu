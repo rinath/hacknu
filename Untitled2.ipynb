{
  "nbformat": 4,
  "nbformat_minor": 0,
  "metadata": {
    "colab": {
      "name": "Untitled2.ipynb",
      "provenance": [],
      "collapsed_sections": []
    },
    "kernelspec": {
      "name": "python3",
      "display_name": "Python 3"
    },
    "language_info": {
      "name": "python"
    }
  },
  "cells": [
    {
      "cell_type": "code",
      "metadata": {
        "colab": {
          "base_uri": "https://localhost:8080/"
        },
        "id": "XhFeXCbxaA3w",
        "outputId": "85317581-1c97-40bb-d430-757f80528853"
      },
      "source": [
        "from google.colab import drive\n",
        "drive.mount('/content/drive')"
      ],
      "execution_count": 1,
      "outputs": [
        {
          "output_type": "stream",
          "text": [
            "Drive already mounted at /content/drive; to attempt to forcibly remount, call drive.mount(\"/content/drive\", force_remount=True).\n"
          ],
          "name": "stdout"
        }
      ]
    },
    {
      "cell_type": "code",
      "metadata": {
        "id": "KDUyfhjDl1tN",
        "colab": {
          "base_uri": "https://localhost:8080/"
        },
        "outputId": "e4c5d8eb-ce7d-4b43-9118-2736ffc7b122"
      },
      "source": [
        "import os\n",
        "import sys\n",
        "import psutil\n",
        "import nltk\n",
        "import numpy as np\n",
        "from IPython.core import display as ICD\n",
        "from nltk.stem import WordNetLemmatizer\n",
        "from nltk.tokenize import RegexpTokenizer\n",
        "from rank_bm25 import BM25Okapi, BM25L, BM25Plus\n",
        "nltk.download('punkt')\n",
        "nltk.download('wordnet')\n",
        "os.environ['KAGGLE_CONFIG_DIR'] = \"/content/drive/MyDrive/Colab Notebooks/hacknu\"\n",
        "def show_memory(st):\n",
        "  process = psutil.Process(os.getpid())\n",
        "  print(f'Memory usage {st}:', process.memory_info().rss / 1024 / 1024, 'mb')"
      ],
      "execution_count": 1,
      "outputs": [
        {
          "output_type": "stream",
          "text": [
            "[nltk_data] Downloading package punkt to /root/nltk_data...\n",
            "[nltk_data]   Package punkt is already up-to-date!\n",
            "[nltk_data] Downloading package wordnet to /root/nltk_data...\n",
            "[nltk_data]   Package wordnet is already up-to-date!\n"
          ],
          "name": "stdout"
        }
      ]
    },
    {
      "cell_type": "code",
      "metadata": {
        "colab": {
          "base_uri": "https://localhost:8080/"
        },
        "id": "irT49biV0Ud6",
        "outputId": "877b30f7-94c7-4563-fa88-5728759188d6"
      },
      "source": [
        "show_memory('at start')"
      ],
      "execution_count": 2,
      "outputs": [
        {
          "output_type": "stream",
          "text": [
            "Memory usage at start: 163.10546875 mb\n"
          ],
          "name": "stdout"
        }
      ]
    },
    {
      "cell_type": "code",
      "metadata": {
        "colab": {
          "base_uri": "https://localhost:8080/"
        },
        "id": "8DO9LMv3aMLM",
        "outputId": "6c321275-f527-4a08-c6f5-2a95fc2c8553"
      },
      "source": [
        "%cd \"/content/drive/MyDrive/Colab Notebooks/hacknu\""
      ],
      "execution_count": 3,
      "outputs": [
        {
          "output_type": "stream",
          "text": [
            "/content/drive/MyDrive/Colab Notebooks/hacknu\n"
          ],
          "name": "stdout"
        }
      ]
    },
    {
      "cell_type": "code",
      "metadata": {
        "id": "QabJa6ueacOu",
        "colab": {
          "base_uri": "https://localhost:8080/"
        },
        "outputId": "549bf9b4-e229-4d36-987f-4f85aa7ca6d5"
      },
      "source": [
        "!pwd\n",
        "!pip install rank_bm25"
      ],
      "execution_count": 46,
      "outputs": [
        {
          "output_type": "stream",
          "text": [
            "/content/drive/My Drive/Colab Notebooks/hacknu\n",
            "Collecting rank_bm25\n",
            "  Downloading https://files.pythonhosted.org/packages/16/5a/23ed3132063a0684ea66fb410260c71c4ffda3b99f8f1c021d1e245401b5/rank_bm25-0.2.1-py3-none-any.whl\n",
            "Requirement already satisfied: numpy in /usr/local/lib/python3.7/dist-packages (from rank_bm25) (1.19.5)\n",
            "Installing collected packages: rank-bm25\n",
            "Successfully installed rank-bm25-0.2.1\n"
          ],
          "name": "stdout"
        }
      ]
    },
    {
      "cell_type": "code",
      "metadata": {
        "colab": {
          "base_uri": "https://localhost:8080/"
        },
        "id": "5-EtvRj9csbT",
        "outputId": "b81dd8cf-6973-457c-e007-bd4fb601e28e"
      },
      "source": [
        "!kaggle datasets download -d snapcrack/all-the-news"
      ],
      "execution_count": 8,
      "outputs": [
        {
          "output_type": "stream",
          "text": [
            "all-the-news.zip: Skipping, found more recently modified local copy (use --force to force download)\n"
          ],
          "name": "stdout"
        }
      ]
    },
    {
      "cell_type": "code",
      "metadata": {
        "id": "j77DV6dNFk6e"
      },
      "source": [
        "import pandas as pd\n",
        "from sklearn.feature_extraction.text import TfidfVectorizer"
      ],
      "execution_count": 4,
      "outputs": []
    },
    {
      "cell_type": "code",
      "metadata": {
        "id": "fLzOava2sQZK"
      },
      "source": [
        "# df = pd.read_csv('articles1.csv')\n",
        "# df = df.head(10)\n",
        "df1 = pd.read_csv('articles1.csv')\n",
        "df2 = pd.read_csv('articles2.csv')\n",
        "# df3 = pd.read_csv('articles3.csv')\n",
        "frames = [df1, df2]\n",
        "df = pd.concat(frames)\n",
        "df.set_index('id', inplace=True)"
      ],
      "execution_count": 5,
      "outputs": []
    },
    {
      "cell_type": "code",
      "metadata": {
        "colab": {
          "base_uri": "https://localhost:8080/",
          "height": 265
        },
        "id": "ZcQMLq_X33Jb",
        "outputId": "d80df052-f7f6-4a91-d079-909575d0366f"
      },
      "source": [
        "ax = df['content'].apply(len).plot.hist(bins=100, log=True)\n",
        "# ax.set_xscale('log')"
      ],
      "execution_count": 8,
      "outputs": [
        {
          "output_type": "display_data",
          "data": {
            "image/png": "[encoded data removed]",
            "text/plain": [
              "<Figure size 432x288 with 1 Axes>"
            ]
          },
          "metadata": {
            "tags": [],
            "needs_background": "light"
          }
        }
      ]
    },
    {
      "cell_type": "code",
      "metadata": {
        "id": "k7cfknn7S6PC"
      },
      "source": [
        "lemmatizer = WordNetLemmatizer()\n",
        "tokenizer = RegexpTokenizer(r'\\w+')\n",
        "def lemm(txt):\n",
        "  word_list = tokenizer.tokenize(txt.lower())\n",
        "  return [lemmatizer.lemmatize(w) for w in word_list]\n",
        "def lemmatize(row):\n",
        "  # word_list = nltk.word_tokenize(row.content)\n",
        "  return lemm(row.content)\n",
        "  # tokenizer = RegexpTokenizer(r'\\w+')\n",
        "  # word_list = tokenizer.tokenize(row.content.lower())\n",
        "  # return [lemmatizer.lemmatize(w) for w in word_list]\n",
        "df['content2'] = df.apply(lemmatize, axis=1)"
      ],
      "execution_count": 9,
      "outputs": []
    },
    {
      "cell_type": "code",
      "metadata": {
        "id": "jL_EiuuuN3FY"
      },
      "source": [
        "# np.set_printoptions(threshold=sys.maxsize)\n",
        "# df.reset_index().to_feather('model.f')\n",
        "df = pd.read_feather('model.f')\n",
        "# df = pd.read_csv('model.csv')"
      ],
      "execution_count": 11,
      "outputs": []
    },
    {
      "cell_type": "code",
      "metadata": {
        "colab": {
          "base_uri": "https://localhost:8080/"
        },
        "id": "tE88_3GbnRcK",
        "outputId": "6d632407-8405-4536-c4ea-94530d887be0"
      },
      "source": [
        "import gc\n",
        "gc.collect()"
      ],
      "execution_count": 16,
      "outputs": [
        {
          "output_type": "execute_result",
          "data": {
            "text/plain": [
              "439"
            ]
          },
          "metadata": {
            "tags": []
          },
          "execution_count": 16
        }
      ]
    },
    {
      "cell_type": "code",
      "metadata": {
        "id": "oXWgaINmUOBl"
      },
      "source": [
        "bm25 = BM25L(df2['content2'])"
      ],
      "execution_count": 13,
      "outputs": []
    },
    {
      "cell_type": "code",
      "metadata": {
        "colab": {
          "base_uri": "https://localhost:8080/",
          "height": 1000
        },
        "id": "fHL1ZoDPaQwR",
        "outputId": "d6227b5b-a5d1-4fb7-a237-d4a7b3f62434"
      },
      "source": [
        "queries = ['presidential elections in 2018', 'olympic sport in rio', 'millionaire innovator', 'Donald Trump approval’s Achilles heel']\n",
        "for query in queries:\n",
        "  print('query:', query)\n",
        "  tokenized_query = lemm(query)\n",
        "  doc_scores = bm25.get_scores(tokenized_query)\n",
        "  result = df[['title', 'year']].copy()\n",
        "  result['bm25score'] = pd.Series(doc_scores)\n",
        "  result.sort_values(by=['bm25score'], ascending=False, inplace=True)\n",
        "  ICD.display(result.head(10))"
      ],
      "execution_count": 19,
      "outputs": [
        {
          "output_type": "stream",
          "text": [
            "query: presidential elections in 2018\n"
          ],
          "name": "stdout"
        },
        {
          "output_type": "display_data",
          "data": {
            "text/html": [
              "<div>\n",
              "<style scoped>\n",
              "    .dataframe tbody tr th:only-of-type {\n",
              "        vertical-align: middle;\n",
              "    }\n",
              "\n",
              "    .dataframe tbody tr th {\n",
              "        vertical-align: top;\n",
              "    }\n",
              "\n",
              "    .dataframe thead th {\n",
              "        text-align: right;\n",
              "    }\n",
              "</style>\n",
              "<table border=\"1\" class=\"dataframe\">\n",
              "  <thead>\n",
              "    <tr style=\"text-align: right;\">\n",
              "      <th></th>\n",
              "      <th>title</th>\n",
              "      <th>year</th>\n",
              "      <th>bm25score</th>\n",
              "    </tr>\n",
              "    <tr>\n",
              "      <th>id</th>\n",
              "      <th></th>\n",
              "      <th></th>\n",
              "      <th></th>\n",
              "    </tr>\n",
              "  </thead>\n",
              "  <tbody>\n",
              "    <tr>\n",
              "      <th>36980</th>\n",
              "      <td>Survey: 1 in 4 Federal Employees Say They Will...</td>\n",
              "      <td>2016.0</td>\n",
              "      <td>440.411825</td>\n",
              "    </tr>\n",
              "    <tr>\n",
              "      <th>18159</th>\n",
              "      <td>Directors From Sundance on What Happened Next ...</td>\n",
              "      <td>2017.0</td>\n",
              "      <td>214.630115</td>\n",
              "    </tr>\n",
              "    <tr>\n",
              "      <th>55699</th>\n",
              "      <td>Political portraits crafted out of currency</td>\n",
              "      <td>2016.0</td>\n",
              "      <td>212.740654</td>\n",
              "    </tr>\n",
              "    <tr>\n",
              "      <th>53713</th>\n",
              "      <td>MS-13 is Trump’s public enemy No.1, but should...</td>\n",
              "      <td>2017.0</td>\n",
              "      <td>208.305687</td>\n",
              "    </tr>\n",
              "    <tr>\n",
              "      <th>53789</th>\n",
              "      <td>Why these extraordinary Cambodian buildings ne...</td>\n",
              "      <td>2017.0</td>\n",
              "      <td>197.152115</td>\n",
              "    </tr>\n",
              "    <tr>\n",
              "      <th>53777</th>\n",
              "      <td>Despite memo, White House says Michelle Obama ...</td>\n",
              "      <td>2017.0</td>\n",
              "      <td>196.850942</td>\n",
              "    </tr>\n",
              "    <tr>\n",
              "      <th>17670</th>\n",
              "      <td>Donald Trump News Conference Gets the ‘S.N.L.’...</td>\n",
              "      <td>2017.0</td>\n",
              "      <td>189.986249</td>\n",
              "    </tr>\n",
              "    <tr>\n",
              "      <th>53772</th>\n",
              "      <td>Cabinet secretary: US strike in Syria ’was in ...</td>\n",
              "      <td>2017.0</td>\n",
              "      <td>186.717483</td>\n",
              "    </tr>\n",
              "    <tr>\n",
              "      <th>53726</th>\n",
              "      <td>Trump’s 100th day rally: Live updates</td>\n",
              "      <td>2017.0</td>\n",
              "      <td>177.646416</td>\n",
              "    </tr>\n",
              "    <tr>\n",
              "      <th>53773</th>\n",
              "      <td>That time Mark Zuckerberg dropped in for famil...</td>\n",
              "      <td>2017.0</td>\n",
              "      <td>175.647824</td>\n",
              "    </tr>\n",
              "  </tbody>\n",
              "</table>\n",
              "</div>"
            ],
            "text/plain": [
              "                                                   title    year   bm25score\n",
              "id                                                                          \n",
              "36980  Survey: 1 in 4 Federal Employees Say They Will...  2016.0  440.411825\n",
              "18159  Directors From Sundance on What Happened Next ...  2017.0  214.630115\n",
              "55699       Political portraits crafted out of currency   2016.0  212.740654\n",
              "53713  MS-13 is Trump’s public enemy No.1, but should...  2017.0  208.305687\n",
              "53789  Why these extraordinary Cambodian buildings ne...  2017.0  197.152115\n",
              "53777  Despite memo, White House says Michelle Obama ...  2017.0  196.850942\n",
              "17670  Donald Trump News Conference Gets the ‘S.N.L.’...  2017.0  189.986249\n",
              "53772  Cabinet secretary: US strike in Syria ’was in ...  2017.0  186.717483\n",
              "53726              Trump’s 100th day rally: Live updates  2017.0  177.646416\n",
              "53773  That time Mark Zuckerberg dropped in for famil...  2017.0  175.647824"
            ]
          },
          "metadata": {
            "tags": []
          }
        },
        {
          "output_type": "stream",
          "text": [
            "query: olympic sport in rio\n"
          ],
          "name": "stdout"
        },
        {
          "output_type": "display_data",
          "data": {
            "text/html": [
              "<div>\n",
              "<style scoped>\n",
              "    .dataframe tbody tr th:only-of-type {\n",
              "        vertical-align: middle;\n",
              "    }\n",
              "\n",
              "    .dataframe tbody tr th {\n",
              "        vertical-align: top;\n",
              "    }\n",
              "\n",
              "    .dataframe thead th {\n",
              "        text-align: right;\n",
              "    }\n",
              "</style>\n",
              "<table border=\"1\" class=\"dataframe\">\n",
              "  <thead>\n",
              "    <tr style=\"text-align: right;\">\n",
              "      <th></th>\n",
              "      <th>title</th>\n",
              "      <th>year</th>\n",
              "      <th>bm25score</th>\n",
              "    </tr>\n",
              "    <tr>\n",
              "      <th>id</th>\n",
              "      <th></th>\n",
              "      <th></th>\n",
              "      <th></th>\n",
              "    </tr>\n",
              "  </thead>\n",
              "  <tbody>\n",
              "    <tr>\n",
              "      <th>36619</th>\n",
              "      <td>Trump Invites Hungarian PM Orbán To Washington...</td>\n",
              "      <td>2016.0</td>\n",
              "      <td>482.055793</td>\n",
              "    </tr>\n",
              "    <tr>\n",
              "      <th>37155</th>\n",
              "      <td>New York Times Fans Flames for Violent Trump P...</td>\n",
              "      <td>2016.0</td>\n",
              "      <td>425.410913</td>\n",
              "    </tr>\n",
              "    <tr>\n",
              "      <th>54707</th>\n",
              "      <td>SCOTUS sets June 12 deadline for travel ban re...</td>\n",
              "      <td>2017.0</td>\n",
              "      <td>354.897042</td>\n",
              "    </tr>\n",
              "    <tr>\n",
              "      <th>36791</th>\n",
              "      <td>Shalabh Kumar: Electing Hillary Will Mean ’The...</td>\n",
              "      <td>2016.0</td>\n",
              "      <td>317.916176</td>\n",
              "    </tr>\n",
              "    <tr>\n",
              "      <th>54799</th>\n",
              "      <td>AG Jeff Sessions offered to quit</td>\n",
              "      <td>2017.0</td>\n",
              "      <td>306.097979</td>\n",
              "    </tr>\n",
              "    <tr>\n",
              "      <th>41002</th>\n",
              "      <td>French Surrender: Kristol’s Pick David French:...</td>\n",
              "      <td>2016.0</td>\n",
              "      <td>285.716188</td>\n",
              "    </tr>\n",
              "    <tr>\n",
              "      <th>54927</th>\n",
              "      <td>2 Texas toddlers died after being left in car ...</td>\n",
              "      <td>2017.0</td>\n",
              "      <td>269.570402</td>\n",
              "    </tr>\n",
              "    <tr>\n",
              "      <th>76046</th>\n",
              "      <td>A New Planet or a Red Herring?</td>\n",
              "      <td>2016.0</td>\n",
              "      <td>253.740454</td>\n",
              "    </tr>\n",
              "    <tr>\n",
              "      <th>36375</th>\n",
              "      <td>Breitbart News Sunday: Bombshell in Alabama - ...</td>\n",
              "      <td>2016.0</td>\n",
              "      <td>252.351628</td>\n",
              "    </tr>\n",
              "    <tr>\n",
              "      <th>53649</th>\n",
              "      <td>Trump’s billionaire friendly tax plan</td>\n",
              "      <td>2017.0</td>\n",
              "      <td>243.626557</td>\n",
              "    </tr>\n",
              "  </tbody>\n",
              "</table>\n",
              "</div>"
            ],
            "text/plain": [
              "                                                   title    year   bm25score\n",
              "id                                                                          \n",
              "36619  Trump Invites Hungarian PM Orbán To Washington...  2016.0  482.055793\n",
              "37155  New York Times Fans Flames for Violent Trump P...  2016.0  425.410913\n",
              "54707  SCOTUS sets June 12 deadline for travel ban re...  2017.0  354.897042\n",
              "36791  Shalabh Kumar: Electing Hillary Will Mean ’The...  2016.0  317.916176\n",
              "54799                  AG Jeff Sessions offered to quit   2017.0  306.097979\n",
              "41002  French Surrender: Kristol’s Pick David French:...  2016.0  285.716188\n",
              "54927  2 Texas toddlers died after being left in car ...  2017.0  269.570402\n",
              "76046                     A New Planet or a Red Herring?  2016.0  253.740454\n",
              "36375  Breitbart News Sunday: Bombshell in Alabama - ...  2016.0  252.351628\n",
              "53649              Trump’s billionaire friendly tax plan  2017.0  243.626557"
            ]
          },
          "metadata": {
            "tags": []
          }
        },
        {
          "output_type": "stream",
          "text": [
            "query: millionaire innovator\n"
          ],
          "name": "stdout"
        },
        {
          "output_type": "display_data",
          "data": {
            "text/html": [
              "<div>\n",
              "<style scoped>\n",
              "    .dataframe tbody tr th:only-of-type {\n",
              "        vertical-align: middle;\n",
              "    }\n",
              "\n",
              "    .dataframe tbody tr th {\n",
              "        vertical-align: top;\n",
              "    }\n",
              "\n",
              "    .dataframe thead th {\n",
              "        text-align: right;\n",
              "    }\n",
              "</style>\n",
              "<table border=\"1\" class=\"dataframe\">\n",
              "  <thead>\n",
              "    <tr style=\"text-align: right;\">\n",
              "      <th></th>\n",
              "      <th>title</th>\n",
              "      <th>year</th>\n",
              "      <th>bm25score</th>\n",
              "    </tr>\n",
              "    <tr>\n",
              "      <th>id</th>\n",
              "      <th></th>\n",
              "      <th></th>\n",
              "      <th></th>\n",
              "    </tr>\n",
              "  </thead>\n",
              "  <tbody>\n",
              "    <tr>\n",
              "      <th>56122</th>\n",
              "      <td>DOJ asks Supreme Court to rehear immigration case</td>\n",
              "      <td>2016.0</td>\n",
              "      <td>136.764447</td>\n",
              "    </tr>\n",
              "    <tr>\n",
              "      <th>80545</th>\n",
              "      <td>Four Ways Trump Is Wrong About Black Americans</td>\n",
              "      <td>2016.0</td>\n",
              "      <td>96.258711</td>\n",
              "    </tr>\n",
              "    <tr>\n",
              "      <th>55599</th>\n",
              "      <td>Complaint filed about Donald Trump fundraising...</td>\n",
              "      <td>2016.0</td>\n",
              "      <td>78.334671</td>\n",
              "    </tr>\n",
              "    <tr>\n",
              "      <th>78480</th>\n",
              "      <td>The Atlantic Daily: Russia’s Rio Runners, Batt...</td>\n",
              "      <td>2016.0</td>\n",
              "      <td>72.727632</td>\n",
              "    </tr>\n",
              "    <tr>\n",
              "      <th>49222</th>\n",
              "      <td>Ex-Reddit CEO Ellen Pao Is Now a Professional ...</td>\n",
              "      <td>2016.0</td>\n",
              "      <td>71.906728</td>\n",
              "    </tr>\n",
              "    <tr>\n",
              "      <th>81187</th>\n",
              "      <td>Westworld and VR Gaming: The Week in Pop-Cultu...</td>\n",
              "      <td>2016.0</td>\n",
              "      <td>68.028881</td>\n",
              "    </tr>\n",
              "    <tr>\n",
              "      <th>81004</th>\n",
              "      <td>Donald Trump’s Cynical Exploitation of Rape Cu...</td>\n",
              "      <td>2016.0</td>\n",
              "      <td>45.056457</td>\n",
              "    </tr>\n",
              "    <tr>\n",
              "      <th>92456</th>\n",
              "      <td>Lewandowski Out At Lobbying Firm He Co-Founded...</td>\n",
              "      <td>NaN</td>\n",
              "      <td>36.116735</td>\n",
              "    </tr>\n",
              "    <tr>\n",
              "      <th>45860</th>\n",
              "      <td>Louisianan to Obama: You’re ‘Misinformed’ abou...</td>\n",
              "      <td>2016.0</td>\n",
              "      <td>36.073951</td>\n",
              "    </tr>\n",
              "    <tr>\n",
              "      <th>47456</th>\n",
              "      <td>Coworker: Orlando Jihadi Wanted to ’Kill All B...</td>\n",
              "      <td>2016.0</td>\n",
              "      <td>35.566566</td>\n",
              "    </tr>\n",
              "  </tbody>\n",
              "</table>\n",
              "</div>"
            ],
            "text/plain": [
              "                                                   title    year   bm25score\n",
              "id                                                                          \n",
              "56122  DOJ asks Supreme Court to rehear immigration case  2016.0  136.764447\n",
              "80545     Four Ways Trump Is Wrong About Black Americans  2016.0   96.258711\n",
              "55599  Complaint filed about Donald Trump fundraising...  2016.0   78.334671\n",
              "78480  The Atlantic Daily: Russia’s Rio Runners, Batt...  2016.0   72.727632\n",
              "49222  Ex-Reddit CEO Ellen Pao Is Now a Professional ...  2016.0   71.906728\n",
              "81187  Westworld and VR Gaming: The Week in Pop-Cultu...  2016.0   68.028881\n",
              "81004  Donald Trump’s Cynical Exploitation of Rape Cu...  2016.0   45.056457\n",
              "92456  Lewandowski Out At Lobbying Firm He Co-Founded...     NaN   36.116735\n",
              "45860  Louisianan to Obama: You’re ‘Misinformed’ abou...  2016.0   36.073951\n",
              "47456  Coworker: Orlando Jihadi Wanted to ’Kill All B...  2016.0   35.566566"
            ]
          },
          "metadata": {
            "tags": []
          }
        },
        {
          "output_type": "stream",
          "text": [
            "query: Donald Trump approval’s Achilles heel\n"
          ],
          "name": "stdout"
        },
        {
          "output_type": "display_data",
          "data": {
            "text/html": [
              "<div>\n",
              "<style scoped>\n",
              "    .dataframe tbody tr th:only-of-type {\n",
              "        vertical-align: middle;\n",
              "    }\n",
              "\n",
              "    .dataframe tbody tr th {\n",
              "        vertical-align: top;\n",
              "    }\n",
              "\n",
              "    .dataframe thead th {\n",
              "        text-align: right;\n",
              "    }\n",
              "</style>\n",
              "<table border=\"1\" class=\"dataframe\">\n",
              "  <thead>\n",
              "    <tr style=\"text-align: right;\">\n",
              "      <th></th>\n",
              "      <th>title</th>\n",
              "      <th>year</th>\n",
              "      <th>bm25score</th>\n",
              "    </tr>\n",
              "    <tr>\n",
              "      <th>id</th>\n",
              "      <th></th>\n",
              "      <th></th>\n",
              "      <th></th>\n",
              "    </tr>\n",
              "  </thead>\n",
              "  <tbody>\n",
              "    <tr>\n",
              "      <th>51738</th>\n",
              "      <td>Scientists highlight deadly risks of climate c...</td>\n",
              "      <td>2017.0</td>\n",
              "      <td>1363.952730</td>\n",
              "    </tr>\n",
              "    <tr>\n",
              "      <th>51345</th>\n",
              "      <td>Federal judge declines to renew restraining or...</td>\n",
              "      <td>2017.0</td>\n",
              "      <td>1277.289734</td>\n",
              "    </tr>\n",
              "    <tr>\n",
              "      <th>56195</th>\n",
              "      <td>Turkey declares three-month state of emergency</td>\n",
              "      <td>2016.0</td>\n",
              "      <td>1265.225131</td>\n",
              "    </tr>\n",
              "    <tr>\n",
              "      <th>51105</th>\n",
              "      <td>CNN 10 - January 27, 2017</td>\n",
              "      <td>2017.0</td>\n",
              "      <td>1225.821260</td>\n",
              "    </tr>\n",
              "    <tr>\n",
              "      <th>50968</th>\n",
              "      <td>Celebrities, politicians participate in #Women...</td>\n",
              "      <td>2017.0</td>\n",
              "      <td>1212.384658</td>\n",
              "    </tr>\n",
              "    <tr>\n",
              "      <th>50867</th>\n",
              "      <td>Schumer warns GOP against jamming Trump nomine...</td>\n",
              "      <td>2017.0</td>\n",
              "      <td>1135.724467</td>\n",
              "    </tr>\n",
              "    <tr>\n",
              "      <th>50499</th>\n",
              "      <td>Republican Obamacare fan hopes Trump’s stance ...</td>\n",
              "      <td>2017.0</td>\n",
              "      <td>1000.549063</td>\n",
              "    </tr>\n",
              "    <tr>\n",
              "      <th>22223</th>\n",
              "      <td>Notes on the U.S. Election: A Measure of Ameri...</td>\n",
              "      <td>2016.0</td>\n",
              "      <td>972.309388</td>\n",
              "    </tr>\n",
              "    <tr>\n",
              "      <th>50441</th>\n",
              "      <td>Dylann Roof: ’There’s nothing wrong with me ps...</td>\n",
              "      <td>2017.0</td>\n",
              "      <td>960.262840</td>\n",
              "    </tr>\n",
              "    <tr>\n",
              "      <th>50362</th>\n",
              "      <td>3 dead in Texas plane crash collision</td>\n",
              "      <td>2017.0</td>\n",
              "      <td>921.298075</td>\n",
              "    </tr>\n",
              "  </tbody>\n",
              "</table>\n",
              "</div>"
            ],
            "text/plain": [
              "                                                   title    year    bm25score\n",
              "id                                                                           \n",
              "51738  Scientists highlight deadly risks of climate c...  2017.0  1363.952730\n",
              "51345  Federal judge declines to renew restraining or...  2017.0  1277.289734\n",
              "56195     Turkey declares three-month state of emergency  2016.0  1265.225131\n",
              "51105                          CNN 10 - January 27, 2017  2017.0  1225.821260\n",
              "50968  Celebrities, politicians participate in #Women...  2017.0  1212.384658\n",
              "50867  Schumer warns GOP against jamming Trump nomine...  2017.0  1135.724467\n",
              "50499  Republican Obamacare fan hopes Trump’s stance ...  2017.0  1000.549063\n",
              "22223  Notes on the U.S. Election: A Measure of Ameri...  2016.0   972.309388\n",
              "50441  Dylann Roof: ’There’s nothing wrong with me ps...  2017.0   960.262840\n",
              "50362              3 dead in Texas plane crash collision  2017.0   921.298075"
            ]
          },
          "metadata": {
            "tags": []
          }
        }
      ]
    },
    {
      "cell_type": "code",
      "metadata": {
        "id": "q0QQHEbavRnX",
        "colab": {
          "base_uri": "https://localhost:8080/"
        },
        "outputId": "7026e0a5-a62c-4f1f-bb67-c71700689a9f"
      },
      "source": [
        "vectorizer = TfidfVectorizer(stop_words='english', use_idf=True)\n",
        "vectors = vectorizer.fit_transform(df.apply(lambda row: ' '.join(row.content2), axis=1))\n",
        "vectors"
      ],
      "execution_count": 18,
      "outputs": [
        {
          "output_type": "execute_result",
          "data": {
            "text/plain": [
              "<99999x238747 sparse matrix of type '<class 'numpy.float64'>'\n",
              "\twith 22232165 stored elements in Compressed Sparse Row format>"
            ]
          },
          "metadata": {
            "tags": []
          },
          "execution_count": 18
        }
      ]
    },
    {
      "cell_type": "code",
      "metadata": {
        "id": "8UbyjFfZDcTI"
      },
      "source": [
        "pd.set_option('max_colwidth', 100)"
      ],
      "execution_count": 13,
      "outputs": []
    },
    {
      "cell_type": "code",
      "metadata": {
        "id": "a7w3d79hyQW7",
        "colab": {
          "base_uri": "https://localhost:8080/",
          "height": 1000
        },
        "outputId": "dfb735f4-5a73-432a-ff6c-4fd2db3850c7"
      },
      "source": [
        "for query in queries:\n",
        "  print('query:', query)\n",
        "  query_vector = vectorizer.transform([query])\n",
        "  result = df2[['id', 'title', 'year']].copy()\n",
        "  result['cossim'] = (vectors * query_vector.T).todense()\n",
        "  result.sort_values(by=['cossim'], ascending=False, inplace=True)\n",
        "  ICD.display(result.head(10))"
      ],
      "execution_count": 20,
      "outputs": [
        {
          "output_type": "stream",
          "text": [
            "query: presidential elections in 2018\n"
          ],
          "name": "stdout"
        },
        {
          "output_type": "display_data",
          "data": {
            "text/html": [
              "<div>\n",
              "<style scoped>\n",
              "    .dataframe tbody tr th:only-of-type {\n",
              "        vertical-align: middle;\n",
              "    }\n",
              "\n",
              "    .dataframe tbody tr th {\n",
              "        vertical-align: top;\n",
              "    }\n",
              "\n",
              "    .dataframe thead th {\n",
              "        text-align: right;\n",
              "    }\n",
              "</style>\n",
              "<table border=\"1\" class=\"dataframe\">\n",
              "  <thead>\n",
              "    <tr style=\"text-align: right;\">\n",
              "      <th></th>\n",
              "      <th>id</th>\n",
              "      <th>title</th>\n",
              "      <th>year</th>\n",
              "      <th>cossim</th>\n",
              "    </tr>\n",
              "  </thead>\n",
              "  <tbody>\n",
              "    <tr>\n",
              "      <th>17670</th>\n",
              "      <td>36412</td>\n",
              "      <td>Republicans May Be Positioned to Win Filibuste...</td>\n",
              "      <td>2016.0</td>\n",
              "      <td>0.288367</td>\n",
              "    </tr>\n",
              "    <tr>\n",
              "      <th>13129</th>\n",
              "      <td>31866</td>\n",
              "      <td>Ryan: Bloodbath If GOP Fails to Pass Health Ca...</td>\n",
              "      <td>2017.0</td>\n",
              "      <td>0.279473</td>\n",
              "    </tr>\n",
              "    <tr>\n",
              "      <th>34312</th>\n",
              "      <td>53741</td>\n",
              "      <td>Democrats’ Senate math problem</td>\n",
              "      <td>2017.0</td>\n",
              "      <td>0.250572</td>\n",
              "    </tr>\n",
              "    <tr>\n",
              "      <th>66557</th>\n",
              "      <td>99892</td>\n",
              "      <td>Ted Cruz Is Planning To Stick Around The Senat...</td>\n",
              "      <td>2016.0</td>\n",
              "      <td>0.238028</td>\n",
              "    </tr>\n",
              "    <tr>\n",
              "      <th>8864</th>\n",
              "      <td>27600</td>\n",
              "      <td>Ted Cruz Draws Democrat Challenger for 2018 Race</td>\n",
              "      <td>2017.0</td>\n",
              "      <td>0.213709</td>\n",
              "    </tr>\n",
              "    <tr>\n",
              "      <th>8402</th>\n",
              "      <td>27138</td>\n",
              "      <td>DNC Chair Perez: Dems Will Retake Both Chamber...</td>\n",
              "      <td>2017.0</td>\n",
              "      <td>0.213231</td>\n",
              "    </tr>\n",
              "    <tr>\n",
              "      <th>63050</th>\n",
              "      <td>91893</td>\n",
              "      <td>Chaffetz On No 2018 Run: ’I Just Turned 50, I’...</td>\n",
              "      <td>NaN</td>\n",
              "      <td>0.213215</td>\n",
              "    </tr>\n",
              "    <tr>\n",
              "      <th>8834</th>\n",
              "      <td>27570</td>\n",
              "      <td>Donald Trump’s Emergency Budget Plan Buys 62 M...</td>\n",
              "      <td>2017.0</td>\n",
              "      <td>0.208735</td>\n",
              "    </tr>\n",
              "    <tr>\n",
              "      <th>67083</th>\n",
              "      <td>100650</td>\n",
              "      <td>Utah Congressman Jason Chaffetz Will Not Seek...</td>\n",
              "      <td>2017.0</td>\n",
              "      <td>0.199300</td>\n",
              "    </tr>\n",
              "    <tr>\n",
              "      <th>21427</th>\n",
              "      <td>40177</td>\n",
              "      <td>Watch Live: Second Presidential Debate in St. ...</td>\n",
              "      <td>2016.0</td>\n",
              "      <td>0.199290</td>\n",
              "    </tr>\n",
              "  </tbody>\n",
              "</table>\n",
              "</div>"
            ],
            "text/plain": [
              "           id  ...    cossim\n",
              "17670   36412  ...  0.288367\n",
              "13129   31866  ...  0.279473\n",
              "34312   53741  ...  0.250572\n",
              "66557   99892  ...  0.238028\n",
              "8864    27600  ...  0.213709\n",
              "8402    27138  ...  0.213231\n",
              "63050   91893  ...  0.213215\n",
              "8834    27570  ...  0.208735\n",
              "67083  100650  ...  0.199300\n",
              "21427   40177  ...  0.199290\n",
              "\n",
              "[10 rows x 4 columns]"
            ]
          },
          "metadata": {
            "tags": []
          }
        },
        {
          "output_type": "stream",
          "text": [
            "query: olympic sport in rio\n"
          ],
          "name": "stdout"
        },
        {
          "output_type": "display_data",
          "data": {
            "text/html": [
              "<div>\n",
              "<style scoped>\n",
              "    .dataframe tbody tr th:only-of-type {\n",
              "        vertical-align: middle;\n",
              "    }\n",
              "\n",
              "    .dataframe tbody tr th {\n",
              "        vertical-align: top;\n",
              "    }\n",
              "\n",
              "    .dataframe thead th {\n",
              "        text-align: right;\n",
              "    }\n",
              "</style>\n",
              "<table border=\"1\" class=\"dataframe\">\n",
              "  <thead>\n",
              "    <tr style=\"text-align: right;\">\n",
              "      <th></th>\n",
              "      <th>id</th>\n",
              "      <th>title</th>\n",
              "      <th>year</th>\n",
              "      <th>cossim</th>\n",
              "    </tr>\n",
              "  </thead>\n",
              "  <tbody>\n",
              "    <tr>\n",
              "      <th>36619</th>\n",
              "      <td>56434</td>\n",
              "      <td>Rio Olympics: Is Brazil ready for the 2016 Games?</td>\n",
              "      <td>2016.0</td>\n",
              "      <td>0.575487</td>\n",
              "    </tr>\n",
              "    <tr>\n",
              "      <th>3472</th>\n",
              "      <td>21136</td>\n",
              "      <td>Olympic Officials Set Russia’s Roster More Tha...</td>\n",
              "      <td>2016.0</td>\n",
              "      <td>0.527619</td>\n",
              "    </tr>\n",
              "    <tr>\n",
              "      <th>5664</th>\n",
              "      <td>23664</td>\n",
              "      <td>Ruling May Allow Russia to Add Seven Athletes ...</td>\n",
              "      <td>2017.0</td>\n",
              "      <td>0.486259</td>\n",
              "    </tr>\n",
              "    <tr>\n",
              "      <th>3370</th>\n",
              "      <td>21021</td>\n",
              "      <td>Sports Court Upholds Ban on Russian Track and ...</td>\n",
              "      <td>2016.0</td>\n",
              "      <td>0.485796</td>\n",
              "    </tr>\n",
              "    <tr>\n",
              "      <th>37155</th>\n",
              "      <td>57069</td>\n",
              "      <td>Rio 2016: Top Olympic moments to savor</td>\n",
              "      <td>2016.0</td>\n",
              "      <td>0.481218</td>\n",
              "    </tr>\n",
              "    <tr>\n",
              "      <th>76046</th>\n",
              "      <td>120268</td>\n",
              "      <td>The Rio Olympics: Catch the Fever!</td>\n",
              "      <td>2016.0</td>\n",
              "      <td>0.477775</td>\n",
              "    </tr>\n",
              "    <tr>\n",
              "      <th>36832</th>\n",
              "      <td>56689</td>\n",
              "      <td>16 facts: Rio 2016 Olympic Games</td>\n",
              "      <td>2016.0</td>\n",
              "      <td>0.471024</td>\n",
              "    </tr>\n",
              "    <tr>\n",
              "      <th>29201</th>\n",
              "      <td>47973</td>\n",
              "      <td>Rio Olympics: Busload of Chinese Reporters Cau...</td>\n",
              "      <td>2016.0</td>\n",
              "      <td>0.469046</td>\n",
              "    </tr>\n",
              "    <tr>\n",
              "      <th>1153</th>\n",
              "      <td>18591</td>\n",
              "      <td>Legacy of Rio Olympics So Far Is Series of Unk...</td>\n",
              "      <td>2017.0</td>\n",
              "      <td>0.448624</td>\n",
              "    </tr>\n",
              "    <tr>\n",
              "      <th>2792</th>\n",
              "      <td>20391</td>\n",
              "      <td>Entrusted to Save Brazil: The Party That Ruine...</td>\n",
              "      <td>2017.0</td>\n",
              "      <td>0.440029</td>\n",
              "    </tr>\n",
              "  </tbody>\n",
              "</table>\n",
              "</div>"
            ],
            "text/plain": [
              "           id  ...    cossim\n",
              "36619   56434  ...  0.575487\n",
              "3472    21136  ...  0.527619\n",
              "5664    23664  ...  0.486259\n",
              "3370    21021  ...  0.485796\n",
              "37155   57069  ...  0.481218\n",
              "76046  120268  ...  0.477775\n",
              "36832   56689  ...  0.471024\n",
              "29201   47973  ...  0.469046\n",
              "1153    18591  ...  0.448624\n",
              "2792    20391  ...  0.440029\n",
              "\n",
              "[10 rows x 4 columns]"
            ]
          },
          "metadata": {
            "tags": []
          }
        },
        {
          "output_type": "stream",
          "text": [
            "query: millionaire innovator\n"
          ],
          "name": "stdout"
        },
        {
          "output_type": "display_data",
          "data": {
            "text/html": [
              "<div>\n",
              "<style scoped>\n",
              "    .dataframe tbody tr th:only-of-type {\n",
              "        vertical-align: middle;\n",
              "    }\n",
              "\n",
              "    .dataframe tbody tr th {\n",
              "        vertical-align: top;\n",
              "    }\n",
              "\n",
              "    .dataframe thead th {\n",
              "        text-align: right;\n",
              "    }\n",
              "</style>\n",
              "<table border=\"1\" class=\"dataframe\">\n",
              "  <thead>\n",
              "    <tr style=\"text-align: right;\">\n",
              "      <th></th>\n",
              "      <th>id</th>\n",
              "      <th>title</th>\n",
              "      <th>year</th>\n",
              "      <th>cossim</th>\n",
              "    </tr>\n",
              "  </thead>\n",
              "  <tbody>\n",
              "    <tr>\n",
              "      <th>45860</th>\n",
              "      <td>68240</td>\n",
              "      <td>9 things to do in your 20s to become a million...</td>\n",
              "      <td>2016.0</td>\n",
              "      <td>0.454935</td>\n",
              "    </tr>\n",
              "    <tr>\n",
              "      <th>56122</th>\n",
              "      <td>81384</td>\n",
              "      <td>Who Wants to Be a ’Single-Digit’ Millionaire?</td>\n",
              "      <td>2016.0</td>\n",
              "      <td>0.424216</td>\n",
              "    </tr>\n",
              "    <tr>\n",
              "      <th>47456</th>\n",
              "      <td>70277</td>\n",
              "      <td>11 things to do in your 20s to become a millio...</td>\n",
              "      <td>2016.0</td>\n",
              "      <td>0.405289</td>\n",
              "    </tr>\n",
              "    <tr>\n",
              "      <th>15679</th>\n",
              "      <td>34416</td>\n",
              "      <td>Hugh Hewitt: Donald Trump Is A Disruptive Inno...</td>\n",
              "      <td>2016.0</td>\n",
              "      <td>0.329943</td>\n",
              "    </tr>\n",
              "    <tr>\n",
              "      <th>35469</th>\n",
              "      <td>55065</td>\n",
              "      <td>Introducing Myanmar’s ’Geek Girls’</td>\n",
              "      <td>2017.0</td>\n",
              "      <td>0.298873</td>\n",
              "    </tr>\n",
              "    <tr>\n",
              "      <th>80545</th>\n",
              "      <td>126278</td>\n",
              "      <td>Millionaires can’t flee this European country ...</td>\n",
              "      <td>2017.0</td>\n",
              "      <td>0.293073</td>\n",
              "    </tr>\n",
              "    <tr>\n",
              "      <th>47591</th>\n",
              "      <td>70445</td>\n",
              "      <td>Seven 5-minute habits of self-made millionaire...</td>\n",
              "      <td>2016.0</td>\n",
              "      <td>0.292837</td>\n",
              "    </tr>\n",
              "    <tr>\n",
              "      <th>49222</th>\n",
              "      <td>72447</td>\n",
              "      <td>I spent 5 years studying rich people — here ar...</td>\n",
              "      <td>2016.0</td>\n",
              "      <td>0.284128</td>\n",
              "    </tr>\n",
              "    <tr>\n",
              "      <th>78480</th>\n",
              "      <td>123468</td>\n",
              "      <td>Cuomo slapping millionaires with additional in...</td>\n",
              "      <td>2017.0</td>\n",
              "      <td>0.267676</td>\n",
              "    </tr>\n",
              "    <tr>\n",
              "      <th>47933</th>\n",
              "      <td>70868</td>\n",
              "      <td>19 things the millionaire next door won’t tell...</td>\n",
              "      <td>2016.0</td>\n",
              "      <td>0.267441</td>\n",
              "    </tr>\n",
              "  </tbody>\n",
              "</table>\n",
              "</div>"
            ],
            "text/plain": [
              "           id  ...    cossim\n",
              "45860   68240  ...  0.454935\n",
              "56122   81384  ...  0.424216\n",
              "47456   70277  ...  0.405289\n",
              "15679   34416  ...  0.329943\n",
              "35469   55065  ...  0.298873\n",
              "80545  126278  ...  0.293073\n",
              "47591   70445  ...  0.292837\n",
              "49222   72447  ...  0.284128\n",
              "78480  123468  ...  0.267676\n",
              "47933   70868  ...  0.267441\n",
              "\n",
              "[10 rows x 4 columns]"
            ]
          },
          "metadata": {
            "tags": []
          }
        },
        {
          "output_type": "stream",
          "text": [
            "query: Donald Trump approval’s Achilles heel\n"
          ],
          "name": "stdout"
        },
        {
          "output_type": "display_data",
          "data": {
            "text/html": [
              "<div>\n",
              "<style scoped>\n",
              "    .dataframe tbody tr th:only-of-type {\n",
              "        vertical-align: middle;\n",
              "    }\n",
              "\n",
              "    .dataframe tbody tr th {\n",
              "        vertical-align: top;\n",
              "    }\n",
              "\n",
              "    .dataframe thead th {\n",
              "        text-align: right;\n",
              "    }\n",
              "</style>\n",
              "<table border=\"1\" class=\"dataframe\">\n",
              "  <thead>\n",
              "    <tr style=\"text-align: right;\">\n",
              "      <th></th>\n",
              "      <th>id</th>\n",
              "      <th>title</th>\n",
              "      <th>year</th>\n",
              "      <th>cossim</th>\n",
              "    </tr>\n",
              "  </thead>\n",
              "  <tbody>\n",
              "    <tr>\n",
              "      <th>86451</th>\n",
              "      <td>134684</td>\n",
              "      <td>Stop shaming women for wearing high heels</td>\n",
              "      <td>2016.0</td>\n",
              "      <td>0.305313</td>\n",
              "    </tr>\n",
              "    <tr>\n",
              "      <th>66910</th>\n",
              "      <td>100355</td>\n",
              "      <td>Even By Latin America’s Standards, Donald Tru...</td>\n",
              "      <td>2017.0</td>\n",
              "      <td>0.292090</td>\n",
              "    </tr>\n",
              "    <tr>\n",
              "      <th>54615</th>\n",
              "      <td>79483</td>\n",
              "      <td>What Is a Heel Spur?</td>\n",
              "      <td>2016.0</td>\n",
              "      <td>0.277414</td>\n",
              "    </tr>\n",
              "    <tr>\n",
              "      <th>30527</th>\n",
              "      <td>49300</td>\n",
              "      <td>USA Today’s Page: The Honest and Trustworthy I...</td>\n",
              "      <td>2016.0</td>\n",
              "      <td>0.263786</td>\n",
              "    </tr>\n",
              "    <tr>\n",
              "      <th>61605</th>\n",
              "      <td>88201</td>\n",
              "      <td>Trump Says The Approval Ratings Polls Are Rigged!</td>\n",
              "      <td>NaN</td>\n",
              "      <td>0.253904</td>\n",
              "    </tr>\n",
              "    <tr>\n",
              "      <th>65643</th>\n",
              "      <td>97655</td>\n",
              "      <td>The Achilles Heel</td>\n",
              "      <td>2016.0</td>\n",
              "      <td>0.251345</td>\n",
              "    </tr>\n",
              "    <tr>\n",
              "      <th>78245</th>\n",
              "      <td>123124</td>\n",
              "      <td>Kristaps Porzingis’ Achilles injury now a ling...</td>\n",
              "      <td>2017.0</td>\n",
              "      <td>0.249616</td>\n",
              "    </tr>\n",
              "    <tr>\n",
              "      <th>44056</th>\n",
              "      <td>66034</td>\n",
              "      <td>Trump’s approval rating hit a new low</td>\n",
              "      <td>2017.0</td>\n",
              "      <td>0.242921</td>\n",
              "    </tr>\n",
              "    <tr>\n",
              "      <th>93869</th>\n",
              "      <td>143777</td>\n",
              "      <td>8 free-agent point guards who could tempt Knicks</td>\n",
              "      <td>2016.0</td>\n",
              "      <td>0.230414</td>\n",
              "    </tr>\n",
              "    <tr>\n",
              "      <th>62695</th>\n",
              "      <td>90913</td>\n",
              "      <td>Winning</td>\n",
              "      <td>NaN</td>\n",
              "      <td>0.228195</td>\n",
              "    </tr>\n",
              "  </tbody>\n",
              "</table>\n",
              "</div>"
            ],
            "text/plain": [
              "           id  ...    cossim\n",
              "86451  134684  ...  0.305313\n",
              "66910  100355  ...  0.292090\n",
              "54615   79483  ...  0.277414\n",
              "30527   49300  ...  0.263786\n",
              "61605   88201  ...  0.253904\n",
              "65643   97655  ...  0.251345\n",
              "78245  123124  ...  0.249616\n",
              "44056   66034  ...  0.242921\n",
              "93869  143777  ...  0.230414\n",
              "62695   90913  ...  0.228195\n",
              "\n",
              "[10 rows x 4 columns]"
            ]
          },
          "metadata": {
            "tags": []
          }
        }
      ]
    },
    {
      "cell_type": "code",
      "metadata": {
        "colab": {
          "base_uri": "https://localhost:8080/"
        },
        "id": "a10z6Wvv1MEN",
        "outputId": "988c3bbf-64bc-4eea-f8c2-b43b86abf0de"
      },
      "source": [
        "show_memory('at the end')"
      ],
      "execution_count": 26,
      "outputs": [
        {
          "output_type": "stream",
          "text": [
            "Memory usage at the end: 9556.046875 mb\n"
          ],
          "name": "stdout"
        }
      ]
    },
    {
      "cell_type": "code",
      "metadata": {
        "colab": {
          "base_uri": "https://localhost:8080/",
          "height": 343
        },
        "id": "t_dqyg_fDlrO",
        "outputId": "f00758c0-4f6c-4e90-cfd2-280e0e345961"
      },
      "source": [
        "result.head(10)"
      ],
      "execution_count": 15,
      "outputs": [
        {
          "output_type": "execute_result",
          "data": {
            "text/html": [
              "<div>\n",
              "<style scoped>\n",
              "    .dataframe tbody tr th:only-of-type {\n",
              "        vertical-align: middle;\n",
              "    }\n",
              "\n",
              "    .dataframe tbody tr th {\n",
              "        vertical-align: top;\n",
              "    }\n",
              "\n",
              "    .dataframe thead th {\n",
              "        text-align: right;\n",
              "    }\n",
              "</style>\n",
              "<table border=\"1\" class=\"dataframe\">\n",
              "  <thead>\n",
              "    <tr style=\"text-align: right;\">\n",
              "      <th></th>\n",
              "      <th>title</th>\n",
              "      <th>cossim</th>\n",
              "    </tr>\n",
              "  </thead>\n",
              "  <tbody>\n",
              "    <tr>\n",
              "      <th>49976</th>\n",
              "      <td>The U.S. Supreme Court Puts North Carolina’s 2017 Elections on Hold</td>\n",
              "      <td>0.342272</td>\n",
              "    </tr>\n",
              "    <tr>\n",
              "      <th>19873</th>\n",
              "      <td>Watch: Obama in 2008 Boasts to Ohioans ’It Helps’ That Dems Are ’in Charge of’ Voting Machines - Breitbart</td>\n",
              "      <td>0.294177</td>\n",
              "    </tr>\n",
              "    <tr>\n",
              "      <th>18301</th>\n",
              "      <td>Democrat-Run Cities Push Plans to Let Non-Citizens Vote - Breitbart</td>\n",
              "      <td>0.271139</td>\n",
              "    </tr>\n",
              "    <tr>\n",
              "      <th>22817</th>\n",
              "      <td>Limbaugh Rips Dems, Media for Attacking Trump for ’Rigged Election’ Remarks While Claiming Russians Are Trying to ’Rig’ U.S. Election - Breitbart</td>\n",
              "      <td>0.257612</td>\n",
              "    </tr>\n",
              "    <tr>\n",
              "      <th>49101</th>\n",
              "      <td>Why the FBI’s ’October surprise’ probably won’t hurt Hillary Clinton</td>\n",
              "      <td>0.252041</td>\n",
              "    </tr>\n",
              "    <tr>\n",
              "      <th>16236</th>\n",
              "      <td>FLASHBACK- Washington Post in 2014: Non-Citizen Voting Gave Democrats 60th Vote for Obamacare - Breitbart</td>\n",
              "      <td>0.249196</td>\n",
              "    </tr>\n",
              "    <tr>\n",
              "      <th>19652</th>\n",
              "      <td>Le Pen Takes Commanding Lead in Presidential Election Polls</td>\n",
              "      <td>0.218802</td>\n",
              "    </tr>\n",
              "    <tr>\n",
              "      <th>21427</th>\n",
              "      <td>Watch Live: Second Presidential Debate in St. Louis - Breitbart</td>\n",
              "      <td>0.213374</td>\n",
              "    </tr>\n",
              "    <tr>\n",
              "      <th>6734</th>\n",
              "      <td>Critics See Efforts by Counties and Towns to Purge Minority Voters From Rolls - The New York Times</td>\n",
              "      <td>0.207656</td>\n",
              "    </tr>\n",
              "    <tr>\n",
              "      <th>31223</th>\n",
              "      <td>Colin Kaepernick Never Even Registered to Vote - Breitbart</td>\n",
              "      <td>0.201412</td>\n",
              "    </tr>\n",
              "  </tbody>\n",
              "</table>\n",
              "</div>"
            ],
            "text/plain": [
              "                                                                                                                                                   title    cossim\n",
              "49976                                                                                The U.S. Supreme Court Puts North Carolina’s 2017 Elections on Hold  0.342272\n",
              "19873                                         Watch: Obama in 2008 Boasts to Ohioans ’It Helps’ That Dems Are ’in Charge of’ Voting Machines - Breitbart  0.294177\n",
              "18301                                                                                Democrat-Run Cities Push Plans to Let Non-Citizens Vote - Breitbart  0.271139\n",
              "22817  Limbaugh Rips Dems, Media for Attacking Trump for ’Rigged Election’ Remarks While Claiming Russians Are Trying to ’Rig’ U.S. Election - Breitbart  0.257612\n",
              "49101                                                                               Why the FBI’s ’October surprise’ probably won’t hurt Hillary Clinton  0.252041\n",
              "16236                                          FLASHBACK- Washington Post in 2014: Non-Citizen Voting Gave Democrats 60th Vote for Obamacare - Breitbart  0.249196\n",
              "19652                                                                                        Le Pen Takes Commanding Lead in Presidential Election Polls  0.218802\n",
              "21427                                                                                    Watch Live: Second Presidential Debate in St. Louis - Breitbart  0.213374\n",
              "6734                                                  Critics See Efforts by Counties and Towns to Purge Minority Voters From Rolls - The New York Times  0.207656\n",
              "31223                                                                                         Colin Kaepernick Never Even Registered to Vote - Breitbart  0.201412"
            ]
          },
          "metadata": {
            "tags": []
          },
          "execution_count": 15
        }
      ]
    },
    {
      "cell_type": "code",
      "metadata": {
        "id": "md-0q8_K1PFZ"
      },
      "source": [
        ""
      ],
      "execution_count": null,
      "outputs": []
    }
  ]
}