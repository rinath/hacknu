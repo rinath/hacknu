{
  "nbformat": 4,
  "nbformat_minor": 0,
  "metadata": {
    "colab": {
      "name": "Untitled2.ipynb",
      "provenance": [],
      "collapsed_sections": []
    },
    "kernelspec": {
      "name": "python3",
      "display_name": "Python 3"
    },
    "language_info": {
      "name": "python"
    }
  },
  "cells": [
    {
      "cell_type": "code",
      "metadata": {
        "colab": {
          "base_uri": "https://localhost:8080/"
        },
        "id": "XhFeXCbxaA3w",
        "outputId": "78b82639-1e5b-45b0-fe09-d42b3da024c7"
      },
      "source": [
        "from google.colab import drive\n",
        "drive.mount('/content/drive')"
      ],
      "execution_count": 1,
      "outputs": [
        {
          "output_type": "stream",
          "text": [
            "Drive already mounted at /content/drive; to attempt to forcibly remount, call drive.mount(\"/content/drive\", force_remount=True).\n"
          ],
          "name": "stdout"
        }
      ]
    },
    {
      "cell_type": "code",
      "metadata": {
        "id": "QabJa6ueacOu",
        "colab": {
          "base_uri": "https://localhost:8080/"
        },
        "outputId": "d6ec1cf2-fb0a-47be-92f7-0e0461558176"
      },
      "source": [
        "!pwd\n",
        "!pip install rank_bm25"
      ],
      "execution_count": 2,
      "outputs": [
        {
          "output_type": "stream",
          "text": [
            "/content\n",
            "Collecting rank_bm25\n",
            "  Downloading https://files.pythonhosted.org/packages/16/5a/23ed3132063a0684ea66fb410260c71c4ffda3b99f8f1c021d1e245401b5/rank_bm25-0.2.1-py3-none-any.whl\n",
            "Requirement already satisfied: numpy in /usr/local/lib/python3.7/dist-packages (from rank_bm25) (1.19.5)\n",
            "Installing collected packages: rank-bm25\n",
            "Successfully installed rank-bm25-0.2.1\n"
          ],
          "name": "stdout"
        }
      ]
    },
    {
      "cell_type": "code",
      "metadata": {
        "id": "KDUyfhjDl1tN",
        "colab": {
          "base_uri": "https://localhost:8080/"
        },
        "outputId": "21d93289-56ef-4771-8084-a7d004b26bf8"
      },
      "source": [
        "import os\n",
        "import sys\n",
        "import psutil\n",
        "import nltk\n",
        "import time\n",
        "import numpy as np\n",
        "import pandas as pd\n",
        "from sklearn.feature_extraction.text import TfidfVectorizer\n",
        "from IPython.core import display as ICD\n",
        "from nltk.stem import WordNetLemmatizer\n",
        "from nltk.tokenize import RegexpTokenizer\n",
        "from rank_bm25 import BM25Okapi, BM25L, BM25Plus\n",
        "nltk.download('punkt')\n",
        "nltk.download('wordnet')\n",
        "os.environ['KAGGLE_CONFIG_DIR'] = \"/content/drive/MyDrive/Colab Notebooks/hacknu\"\n",
        "def show_memory(st):\n",
        "  process = psutil.Process(os.getpid())\n",
        "  print(f'Memory usage {st}:', process.memory_info().rss / 1024 / 1024, 'mb')"
      ],
      "execution_count": 2,
      "outputs": [
        {
          "output_type": "stream",
          "text": [
            "[nltk_data] Downloading package punkt to /root/nltk_data...\n",
            "[nltk_data]   Package punkt is already up-to-date!\n",
            "[nltk_data] Downloading package wordnet to /root/nltk_data...\n",
            "[nltk_data]   Package wordnet is already up-to-date!\n"
          ],
          "name": "stdout"
        }
      ]
    },
    {
      "cell_type": "code",
      "metadata": {
        "colab": {
          "base_uri": "https://localhost:8080/"
        },
        "id": "irT49biV0Ud6",
        "outputId": "e57dff64-c880-4297-dc76-b3111e5aa691"
      },
      "source": [
        "show_memory('at start')"
      ],
      "execution_count": 5,
      "outputs": [
        {
          "output_type": "stream",
          "text": [
            "Memory usage at start: 164.4609375 mb\n"
          ],
          "name": "stdout"
        }
      ]
    },
    {
      "cell_type": "code",
      "metadata": {
        "colab": {
          "base_uri": "https://localhost:8080/"
        },
        "id": "8DO9LMv3aMLM",
        "outputId": "6a4d0721-e337-4716-8f85-1162acf12f34"
      },
      "source": [
        "%cd \"/content/drive/MyDrive/Colab Notebooks/hacknu\""
      ],
      "execution_count": 6,
      "outputs": [
        {
          "output_type": "stream",
          "text": [
            "/content/drive/MyDrive/Colab Notebooks/hacknu\n"
          ],
          "name": "stdout"
        }
      ]
    },
    {
      "cell_type": "code",
      "metadata": {
        "colab": {
          "base_uri": "https://localhost:8080/"
        },
        "id": "5-EtvRj9csbT",
        "outputId": "b81dd8cf-6973-457c-e007-bd4fb601e28e"
      },
      "source": [
        "!kaggle datasets download -d snapcrack/all-the-news"
      ],
      "execution_count": 8,
      "outputs": [
        {
          "output_type": "stream",
          "text": [
            "all-the-news.zip: Skipping, found more recently modified local copy (use --force to force download)\n"
          ],
          "name": "stdout"
        }
      ]
    },
    {
      "cell_type": "code",
      "metadata": {
        "id": "fLzOava2sQZK"
      },
      "source": [
        "df = pd.read_feather('articles.f')\n",
        "# df = df.head(10)\n",
        "# df1 = pd.read_csv('articles1.csv')\n",
        "# df2 = pd.read_csv('articles2.csv')\n",
        "# df3 = pd.read_csv('articles3.csv')\n",
        "# frames = [df1, df2]\n",
        "# df = pd.concat(frames)\n",
        "# df.set_index('id', inplace=True)"
      ],
      "execution_count": 7,
      "outputs": []
    },
    {
      "cell_type": "code",
      "metadata": {
        "colab": {
          "base_uri": "https://localhost:8080/",
          "height": 265
        },
        "id": "ZcQMLq_X33Jb",
        "outputId": "0f3be626-03d5-4564-d675-439c62d6aecc"
      },
      "source": [
        "ax = df['content'].apply(len).plot.hist(bins=100, log=True)\n",
        "# ax.set_xscale('log')"
      ],
      "execution_count": 8,
      "outputs": [
        {
          "output_type": "display_data",
          "data": {
            "image/png": "[encoded data removed]",
            "text/plain": [
              "<Figure size 432x288 with 1 Axes>"
            ]
          },
          "metadata": {
            "tags": [],
            "needs_background": "light"
          }
        }
      ]
    },
    {
      "cell_type": "code",
      "metadata": {
        "id": "k7cfknn7S6PC"
      },
      "source": [
        "lemmatizer = WordNetLemmatizer()\n",
        "\n",
        "def smart_tokenize(txt):\n",
        "  tokens = nltk.word_tokenize(txt.lower())\n",
        "  return tokens\n",
        "  # return [lemmatizer.lemmatize(w) for w in tokens]\n",
        "\n",
        "def tokenize_row(row):\n",
        "  return smart_tokenize(row.content)\n",
        "\n",
        "# df['content2'] = df.apply(lambda row: nltk.word_tokenize(row.content.lower()), axis=1)"
      ],
      "execution_count": 9,
      "outputs": []
    },
    {
      "cell_type": "code",
      "metadata": {
        "id": "jL_EiuuuN3FY"
      },
      "source": [
        "# np.set_printoptions(threshold=sys.maxsize)\n",
        "# df.reset_index().to_feather('model.f')\n",
        "# df = pd.read_feather('model.f')\n",
        "# df = pd.read_csv('model.csv')"
      ],
      "execution_count": 25,
      "outputs": []
    },
    {
      "cell_type": "code",
      "metadata": {
        "colab": {
          "base_uri": "https://localhost:8080/"
        },
        "id": "tE88_3GbnRcK",
        "outputId": "6c2dacc4-2f1d-4339-afb2-ea8e66b964b3"
      },
      "source": [
        "import gc\n",
        "gc.collect()"
      ],
      "execution_count": 26,
      "outputs": [
        {
          "output_type": "execute_result",
          "data": {
            "text/plain": [
              "131"
            ]
          },
          "metadata": {
            "tags": []
          },
          "execution_count": 26
        }
      ]
    },
    {
      "cell_type": "code",
      "metadata": {
        "id": "RQyJk3imqqVR"
      },
      "source": [
        "bm25 = BM25L(df['content2'])"
      ],
      "execution_count": 10,
      "outputs": []
    },
    {
      "cell_type": "code",
      "metadata": {
        "id": "oXWgaINmUOBl"
      },
      "source": [
        "vectorizer = TfidfVectorizer(stop_words='english', use_idf=True)\n",
        "vectors = vectorizer.fit_transform(df.apply(lambda row: ' '.join(row.content2), axis=1))"
      ],
      "execution_count": 11,
      "outputs": []
    },
    {
      "cell_type": "code",
      "metadata": {
        "id": "1RQH4c_Hki9w"
      },
      "source": [
        "def exact_match(subarr, arr):\n",
        "  if len(subarr) >= 4 and ''.join(subarr) in ''.join(arr):\n",
        "    return 1\n",
        "  return 0"
      ],
      "execution_count": 51,
      "outputs": []
    },
    {
      "cell_type": "code",
      "metadata": {
        "colab": {
          "base_uri": "https://localhost:8080/",
          "height": 562
        },
        "id": "fHL1ZoDPaQwR",
        "outputId": "e073764c-de8e-4e46-e6b1-9cbd548a367c"
      },
      "source": [
        "# queries = ['presidential election', 'olympic sport in rio', 'work desk', 'Katy Perry', 'Gennifer Flowers not attending first']\n",
        "for query in [input('Enter search query:')]:\n",
        "  print('query:', query)\n",
        "  t1 = time.time()\n",
        "  tokenized_query = smart_tokenize(query)\n",
        "  doc_scores = bm25.get_scores(tokenized_query)\n",
        "  result = df[['title', 'year']].copy()\n",
        "  result['bm25score'] = pd.Series(doc_scores)\n",
        "  tfid_query_vector = vectorizer.transform([query])\n",
        "  result['cossim'] = (vectors * tfid_query_vector.T).todense()\n",
        "  result['exact'] = df.content.apply(lambda x: int(''.join(tokenized_query) in x))\n",
        "  result['content'] = df['content2'].apply(lambda x: ' '.join(x[:100]))\n",
        "  # result.sort_values(by=['exact'], ascending=False, inplace=True)\n",
        "  result.sort_values(['exact', 'bm25score'], ascending=[False, False], inplace=True)\n",
        "  t2 = time.time() - t1\n",
        "  ICD.display(result[['title', 'year', 'bm25score', 'cossim', 'content']].head(10))\n",
        "print('elapsed:', t2, 's')"
      ],
      "execution_count": 23,
      "outputs": [
        {
          "output_type": "stream",
          "text": [
            "Enter search query:olympic sport\n",
            "query: olympic sport\n"
          ],
          "name": "stdout"
        },
        {
          "output_type": "display_data",
          "data": {
            "text/html": [
              "<div>\n",
              "<style scoped>\n",
              "    .dataframe tbody tr th:only-of-type {\n",
              "        vertical-align: middle;\n",
              "    }\n",
              "\n",
              "    .dataframe tbody tr th {\n",
              "        vertical-align: top;\n",
              "    }\n",
              "\n",
              "    .dataframe thead th {\n",
              "        text-align: right;\n",
              "    }\n",
              "</style>\n",
              "<table border=\"1\" class=\"dataframe\">\n",
              "  <thead>\n",
              "    <tr style=\"text-align: right;\">\n",
              "      <th></th>\n",
              "      <th>title</th>\n",
              "      <th>year</th>\n",
              "      <th>bm25score</th>\n",
              "      <th>cossim</th>\n",
              "      <th>content</th>\n",
              "    </tr>\n",
              "  </thead>\n",
              "  <tbody>\n",
              "    <tr>\n",
              "      <th>54707</th>\n",
              "      <td>Women’s Softball Needs the Olympics</td>\n",
              "      <td>2016.0</td>\n",
              "      <td>350.784315</td>\n",
              "      <td>0.310105</td>\n",
              "      <td>for u to continue writing great story we need to display ad please select the extension that is ...</td>\n",
              "    </tr>\n",
              "    <tr>\n",
              "      <th>132835</th>\n",
              "      <td>Documents: USOC alerted to sex abuse problems long before taking action</td>\n",
              "      <td>2017.0</td>\n",
              "      <td>343.259943</td>\n",
              "      <td>0.293662</td>\n",
              "      <td>in october 1999 the former chief executive of usa gymnastics told the u s olympic committee it h...</td>\n",
              "    </tr>\n",
              "    <tr>\n",
              "      <th>3370</th>\n",
              "      <td>Sports Court Upholds Ban on Russian Track and Field Athletes - The New York Times</td>\n",
              "      <td>2016.0</td>\n",
              "      <td>294.885983</td>\n",
              "      <td>0.498235</td>\n",
              "      <td>an appeal court on thursday upheld the ban on russia s track and field team from the rio olympic...</td>\n",
              "    </tr>\n",
              "    <tr>\n",
              "      <th>41002</th>\n",
              "      <td>The real March Madness: When will women’s teams get equal buzz?</td>\n",
              "      <td>2015.0</td>\n",
              "      <td>286.552248</td>\n",
              "      <td>0.382305</td>\n",
              "      <td>cnn last month my husband and i took our daughter to a columbia university woman s basketball ga...</td>\n",
              "    </tr>\n",
              "    <tr>\n",
              "      <th>139369</th>\n",
              "      <td>Doping has always been part of the Olympics. Of course Russia got off the hook.</td>\n",
              "      <td>2016.0</td>\n",
              "      <td>284.164866</td>\n",
              "      <td>0.417475</td>\n",
              "      <td>when the international olympic committee announced last weekend that it would not ban the entire...</td>\n",
              "    </tr>\n",
              "    <tr>\n",
              "      <th>130199</th>\n",
              "      <td>More women compete on primetime TV at the Olympics than any other point in the year</td>\n",
              "      <td>2016.0</td>\n",
              "      <td>280.720117</td>\n",
              "      <td>0.375143</td>\n",
              "      <td>every day of the olympic game in rio seems to have generated at least one cringeworthy story abo...</td>\n",
              "    </tr>\n",
              "    <tr>\n",
              "      <th>132424</th>\n",
              "      <td>An athlete accused her coach of sex abuse. Olympic officials stayed on the sideline.</td>\n",
              "      <td>2017.0</td>\n",
              "      <td>263.266035</td>\n",
              "      <td>0.224055</td>\n",
              "      <td>colorado spring the document describing a coach s sexual abuse of three aspiring olympic athlete...</td>\n",
              "    </tr>\n",
              "    <tr>\n",
              "      <th>3472</th>\n",
              "      <td>Olympic Officials Set Russia’s Roster More Than 100 Are Barred for Doping - The New York Times</td>\n",
              "      <td>2016.0</td>\n",
              "      <td>247.750550</td>\n",
              "      <td>0.504938</td>\n",
              "      <td>rio de janeiro olympic official announced on thursday night that 271 russian athlete had been ap...</td>\n",
              "    </tr>\n",
              "    <tr>\n",
              "      <th>1410</th>\n",
              "      <td>Clashing Agendas: Antidoping Officials vs. U.S. Olympics Leaders - The New York Times</td>\n",
              "      <td>2017.0</td>\n",
              "      <td>237.846426</td>\n",
              "      <td>0.388224</td>\n",
              "      <td>colorado spring executive at the united state agency here are agitating for a forceful response ...</td>\n",
              "    </tr>\n",
              "    <tr>\n",
              "      <th>3334</th>\n",
              "      <td>Russia May Face Olympics Ban as Doping Scheme Is Confirmed - The New York Times</td>\n",
              "      <td>2016.0</td>\n",
              "      <td>236.957254</td>\n",
              "      <td>0.318374</td>\n",
              "      <td>toronto the world s leading antidoping official on monday called for russia to be barred from th...</td>\n",
              "    </tr>\n",
              "  </tbody>\n",
              "</table>\n",
              "</div>"
            ],
            "text/plain": [
              "                                                                                                 title  ...                                                                                              content\n",
              "54707                                                              Women’s Softball Needs the Olympics  ...  for u to continue writing great story we need to display ad please select the extension that is ...\n",
              "132835                         Documents: USOC alerted to sex abuse problems long before taking action  ...  in october 1999 the former chief executive of usa gymnastics told the u s olympic committee it h...\n",
              "3370                 Sports Court Upholds Ban on Russian Track and Field Athletes - The New York Times  ...  an appeal court on thursday upheld the ban on russia s track and field team from the rio olympic...\n",
              "41002                                  The real March Madness: When will women’s teams get equal buzz?  ...  cnn last month my husband and i took our daughter to a columbia university woman s basketball ga...\n",
              "139369                 Doping has always been part of the Olympics. Of course Russia got off the hook.  ...  when the international olympic committee announced last weekend that it would not ban the entire...\n",
              "130199             More women compete on primetime TV at the Olympics than any other point in the year  ...  every day of the olympic game in rio seems to have generated at least one cringeworthy story abo...\n",
              "132424            An athlete accused her coach of sex abuse. Olympic officials stayed on the sideline.  ...  colorado spring the document describing a coach s sexual abuse of three aspiring olympic athlete...\n",
              "3472    Olympic Officials Set Russia’s Roster More Than 100 Are Barred for Doping - The New York Times  ...  rio de janeiro olympic official announced on thursday night that 271 russian athlete had been ap...\n",
              "1410             Clashing Agendas: Antidoping Officials vs. U.S. Olympics Leaders - The New York Times  ...  colorado spring executive at the united state agency here are agitating for a forceful response ...\n",
              "3334                   Russia May Face Olympics Ban as Doping Scheme Is Confirmed - The New York Times  ...  toronto the world s leading antidoping official on monday called for russia to be barred from th...\n",
              "\n",
              "[10 rows x 5 columns]"
            ]
          },
          "metadata": {
            "tags": []
          }
        },
        {
          "output_type": "stream",
          "text": [
            "elapsed: 2.039829730987549 s\n"
          ],
          "name": "stdout"
        }
      ]
    },
    {
      "cell_type": "code",
      "metadata": {
        "id": "8UbyjFfZDcTI"
      },
      "source": [
        "pd.set_option('max_colwidth', 100)"
      ],
      "execution_count": 19,
      "outputs": []
    },
    {
      "cell_type": "code",
      "metadata": {
        "colab": {
          "base_uri": "https://localhost:8080/"
        },
        "id": "a10z6Wvv1MEN",
        "outputId": "cc7a86cf-8392-41d0-ade7-dc815d5d0895"
      },
      "source": [
        "show_memory('at the end')"
      ],
      "execution_count": 40,
      "outputs": [
        {
          "output_type": "stream",
          "text": [
            "Memory usage at the end: 6606.31640625 mb\n"
          ],
          "name": "stdout"
        }
      ]
    },
    {
      "cell_type": "code",
      "metadata": {
        "id": "ZP771tUxYd7K"
      },
      "source": [
        ""
      ],
      "execution_count": null,
      "outputs": []
    }
  ]
}