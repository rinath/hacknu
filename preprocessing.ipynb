{
  "nbformat": 4,
  "nbformat_minor": 0,
  "metadata": {
    "colab": {
      "name": "preprocessing.ipynb",
      "provenance": [],
      "collapsed_sections": []
    },
    "kernelspec": {
      "name": "python3",
      "display_name": "Python 3"
    },
    "language_info": {
      "name": "python"
    }
  },
  "cells": [
    {
      "cell_type": "code",
      "metadata": {
        "colab": {
          "base_uri": "https://localhost:8080/"
        },
        "id": "veGGyKNZStbZ",
        "outputId": "4ed034f9-c762-41ea-e021-b9b579b2807d"
      },
      "source": [
        "!pip install rank_bm25"
      ],
      "execution_count": 2,
      "outputs": [
        {
          "output_type": "stream",
          "text": [
            "Collecting rank_bm25\n",
            "  Downloading https://files.pythonhosted.org/packages/16/5a/23ed3132063a0684ea66fb410260c71c4ffda3b99f8f1c021d1e245401b5/rank_bm25-0.2.1-py3-none-any.whl\n",
            "Requirement already satisfied: numpy in /usr/local/lib/python3.7/dist-packages (from rank_bm25) (1.19.5)\n",
            "Installing collected packages: rank-bm25\n",
            "Successfully installed rank-bm25-0.2.1\n"
          ],
          "name": "stdout"
        }
      ]
    },
    {
      "cell_type": "code",
      "metadata": {
        "colab": {
          "base_uri": "https://localhost:8080/"
        },
        "id": "cVz4bsT9R4aq",
        "outputId": "c879b165-ba1b-4917-fb82-db15a9700579"
      },
      "source": [
        "import os\n",
        "import sys\n",
        "import psutil\n",
        "import nltk\n",
        "import numpy as np\n",
        "import pandas as pd\n",
        "from sklearn.feature_extraction.text import TfidfVectorizer\n",
        "from IPython.core import display as ICD\n",
        "from nltk.stem import WordNetLemmatizer\n",
        "from nltk.tokenize import RegexpTokenizer\n",
        "from rank_bm25 import BM25Okapi, BM25L, BM25Plus\n",
        "nltk.download('punkt')\n",
        "nltk.download('wordnet')"
      ],
      "execution_count": 3,
      "outputs": [
        {
          "output_type": "stream",
          "text": [
            "[nltk_data] Downloading package punkt to /root/nltk_data...\n",
            "[nltk_data]   Unzipping tokenizers/punkt.zip.\n",
            "[nltk_data] Downloading package wordnet to /root/nltk_data...\n",
            "[nltk_data]   Unzipping corpora/wordnet.zip.\n"
          ],
          "name": "stdout"
        },
        {
          "output_type": "execute_result",
          "data": {
            "text/plain": [
              "True"
            ]
          },
          "metadata": {
            "tags": []
          },
          "execution_count": 3
        }
      ]
    },
    {
      "cell_type": "code",
      "metadata": {
        "colab": {
          "base_uri": "https://localhost:8080/"
        },
        "id": "5xtbRFKtSm5S",
        "outputId": "3c57e1d0-5e91-4ebc-de1c-7de45b781a08"
      },
      "source": [
        "%cd \"/content/drive/MyDrive/Colab Notebooks/hacknu\""
      ],
      "execution_count": 4,
      "outputs": [
        {
          "output_type": "stream",
          "text": [
            "/content/drive/MyDrive/Colab Notebooks/hacknu\n"
          ],
          "name": "stdout"
        }
      ]
    },
    {
      "cell_type": "code",
      "metadata": {
        "id": "jVrVR1D_S04y"
      },
      "source": [
        "# df1 = pd.read_csv('articles1.csv')\n",
        "# df2 = pd.read_csv('articles2.csv')\n",
        "# df3 = pd.read_csv('articles3.csv')\n",
        "name = 'articles3'\n",
        "df = pd.read_csv(name + '.csv')\n",
        "def truncate(txt):\n",
        "  n = 1000\n",
        "  a = txt.split()\n",
        "  if len(a) > 2 * n:\n",
        "    return ' '.join(a[:n] + a[-n:])\n",
        "  else:\n",
        "    return ' '.join(a)\n",
        "df['content'] = df.content.apply(truncate)\n",
        "# df = pd.concat([df1, df2, df3])\n",
        "# df.set_index('id', inplace=True)"
      ],
      "execution_count": null,
      "outputs": []
    },
    {
      "cell_type": "code",
      "metadata": {
        "colab": {
          "base_uri": "https://localhost:8080/",
          "height": 282
        },
        "id": "PiGOmQK8e5eC",
        "outputId": "c573784f-17ae-4265-c383-1b36cfd3a3e0"
      },
      "source": [
        "df['content'].apply(len).plot.hist(bins=100)"
      ],
      "execution_count": 16,
      "outputs": [
        {
          "output_type": "execute_result",
          "data": {
            "text/plain": [
              "<matplotlib.axes._subplots.AxesSubplot at 0x7f4777398110>"
            ]
          },
          "metadata": {
            "tags": []
          },
          "execution_count": 16
        },
        {
          "output_type": "display_data",
          "data": {
            "image/png": "[encoded data removed]",
            "text/plain": [
              "<Figure size 432x288 with 1 Axes>"
            ]
          },
          "metadata": {
            "tags": [],
            "needs_background": "light"
          }
        }
      ]
    },
    {
      "cell_type": "code",
      "metadata": {
        "id": "PaEpfQt6S5xc"
      },
      "source": [
        "lemmatizer = WordNetLemmatizer()\n",
        "tokenizer = RegexpTokenizer('\\w+')\n",
        "\n",
        "def smart_tokenize(txt):\n",
        "  if not txt:\n",
        "    return ['']\n",
        "  tokens = tokenizer.tokenize(txt.lower())\n",
        "  # return tokens\n",
        "  return [lemmatizer.lemmatize(w) for w in tokens]\n",
        "\n",
        "# df['content2'] = df.apply(lambda row: smart_tokenize(row.content), axis=1)"
      ],
      "execution_count": 25,
      "outputs": []
    },
    {
      "cell_type": "code",
      "metadata": {
        "id": "ZWrD9_NSu9Fr"
      },
      "source": [
        "df1 = pd.read_feather('articles1.f')\n",
        "df2 = pd.read_feather('articles2.f')\n",
        "df3 = pd.read_feather('articles3.f')\n",
        "df = pd.concat([df1, df2, df3])\n",
        "# df.set_index('id', inplace=True)"
      ],
      "execution_count": 12,
      "outputs": []
    },
    {
      "cell_type": "code",
      "metadata": {
        "colab": {
          "base_uri": "https://localhost:8080/"
        },
        "id": "Rjf_HKz-7EcK",
        "outputId": "b2c5021e-ba22-4b96-e2b5-614ae7457527"
      },
      "source": [
        "import gc\n",
        "gc.collect()"
      ],
      "execution_count": 6,
      "outputs": [
        {
          "output_type": "execute_result",
          "data": {
            "text/plain": [
              "99"
            ]
          },
          "metadata": {
            "tags": []
          },
          "execution_count": 6
        }
      ]
    },
    {
      "cell_type": "code",
      "metadata": {
        "colab": {
          "base_uri": "https://localhost:8080/"
        },
        "id": "nkJ6A8afBMlY",
        "outputId": "ca39a763-6f4d-40a5-d24e-8c393575c9fa"
      },
      "source": [
        "print(df['content2'])"
      ],
      "execution_count": 14,
      "outputs": [
        {
          "output_type": "stream",
          "text": [
            "0        [washington, congressional, republican, have, ...\n",
            "1        [after, the, bullet, shell, get, counted, the,...\n",
            "2        [when, walt, disney, s, bambi, opened, in, 194...\n",
            "3        [death, may, be, the, great, equalizer, but, i...\n",
            "4        [seoul, south, korea, north, korea, s, leader,...\n",
            "                               ...                        \n",
            "42566    [uber, driver, keith, avila, picked, up, a, pa...\n",
            "42567    [crew, on, friday, continued, to, search, lake...\n",
            "42568    [when, the, obama, administration, announced, ...\n",
            "42569    [this, story, ha, been, updated, a, new, law, ...\n",
            "42570    [the, nation, s, first, recreational, marijuan...\n",
            "Name: content2, Length: 142570, dtype: object\n"
          ],
          "name": "stdout"
        }
      ]
    },
    {
      "cell_type": "code",
      "metadata": {
        "colab": {
          "base_uri": "https://localhost:8080/"
        },
        "id": "uDr63sRexuBy",
        "outputId": "8fe95ba9-d0bf-40ed-9601-0eca3f94d529"
      },
      "source": [
        "# df['content'] = df.apply(lambda row: ''.join(row.content2), axis=1)\n",
        "def concat(row):\n",
        "  a = smart_tokenize(row.title) + smart_tokenize(row.publication) + smart_tokenize(row.author)\n",
        "  b = row.content2\n",
        "  # print(len(a), a[0])\n",
        "  # print(b.shape)\n",
        "  c = a + b.tolist()\n",
        "  return ''.join(c)\n",
        "# df['content'] = df.apply(lambda row: concat(row), axis=1)\n",
        "df.apply(lambda row: row.content[500:], axis=1)"
      ],
      "execution_count": 24,
      "outputs": [
        {
          "output_type": "execute_result",
          "data": {
            "text/plain": [
              "0        reprogramtoimplodeleavingmillionofpeoplewithou...\n",
              "1        recinctatthesoutherntipofthebronxainotherpoorm...\n",
              "2        rrevocableseparationfromhismotherandinthehopeo...\n",
              "3        stimewashortinthelyricofhisfinalalbumreleasedj...\n",
              "4        alballisticmissileoricbminhisannualnewyearsday...\n",
              "                               ...                        \n",
              "42566    touchingupontheguyavilasaidonfacebookliveminut...\n",
              "42567    ortgooglemapthreeadultandthreechildwereonthece...\n",
              "42568    toleaveofficeandthehomeaffordablemodificationp...\n",
              "42569    hibitslocalordinancefromregulatingtheusedispos...\n",
              "42570    tatewheremarijuanaislegalthedataonthispointhab...\n",
              "Length: 142570, dtype: object"
            ]
          },
          "metadata": {
            "tags": []
          },
          "execution_count": 24
        }
      ]
    },
    {
      "cell_type": "code",
      "metadata": {
        "id": "AB07x6w8TJhH"
      },
      "source": [
        "# df.reset_index().to_feather(name + '.f')\n",
        "# df = pd.read_feather('articles.f')"
      ],
      "execution_count": null,
      "outputs": []
    },
    {
      "cell_type": "code",
      "metadata": {
        "id": "Apnhuow6xrqW"
      },
      "source": [
        "df.reset_index().to_feather('articles4.f')"
      ],
      "execution_count": 20,
      "outputs": []
    },
    {
      "cell_type": "code",
      "metadata": {
        "colab": {
          "base_uri": "https://localhost:8080/",
          "height": 602
        },
        "id": "_yeG1nLKxBJB",
        "outputId": "031212bd-d795-4ded-b67e-e2e6151e2ae7"
      },
      "source": [
        "df.head()"
      ],
      "execution_count": 21,
      "outputs": [
        {
          "output_type": "execute_result",
          "data": {
            "text/html": [
              "<div>\n",
              "<style scoped>\n",
              "    .dataframe tbody tr th:only-of-type {\n",
              "        vertical-align: middle;\n",
              "    }\n",
              "\n",
              "    .dataframe tbody tr th {\n",
              "        vertical-align: top;\n",
              "    }\n",
              "\n",
              "    .dataframe thead th {\n",
              "        text-align: right;\n",
              "    }\n",
              "</style>\n",
              "<table border=\"1\" class=\"dataframe\">\n",
              "  <thead>\n",
              "    <tr style=\"text-align: right;\">\n",
              "      <th></th>\n",
              "      <th>index</th>\n",
              "      <th>Unnamed: 0</th>\n",
              "      <th>id</th>\n",
              "      <th>title</th>\n",
              "      <th>publication</th>\n",
              "      <th>author</th>\n",
              "      <th>date</th>\n",
              "      <th>year</th>\n",
              "      <th>month</th>\n",
              "      <th>url</th>\n",
              "      <th>content</th>\n",
              "      <th>content2</th>\n",
              "    </tr>\n",
              "  </thead>\n",
              "  <tbody>\n",
              "    <tr>\n",
              "      <th>0</th>\n",
              "      <td>0</td>\n",
              "      <td>0</td>\n",
              "      <td>17283</td>\n",
              "      <td>House Republicans Fret About Winning Their Hea...</td>\n",
              "      <td>New York Times</td>\n",
              "      <td>Carl Hulse</td>\n",
              "      <td>2016-12-31</td>\n",
              "      <td>2016.0</td>\n",
              "      <td>12.0</td>\n",
              "      <td>NaN</td>\n",
              "      <td>houserepublicanfretaboutwinningtheirhealthcare...</td>\n",
              "      <td>[washington, congressional, republican, have, ...</td>\n",
              "    </tr>\n",
              "    <tr>\n",
              "      <th>1</th>\n",
              "      <td>1</td>\n",
              "      <td>1</td>\n",
              "      <td>17284</td>\n",
              "      <td>Rift Between Officers and Residents as Killing...</td>\n",
              "      <td>New York Times</td>\n",
              "      <td>Benjamin Mueller and Al Baker</td>\n",
              "      <td>2017-06-19</td>\n",
              "      <td>2017.0</td>\n",
              "      <td>6.0</td>\n",
              "      <td>NaN</td>\n",
              "      <td>riftbetweenofficerandresidentakillingpersistin...</td>\n",
              "      <td>[after, the, bullet, shell, get, counted, the,...</td>\n",
              "    </tr>\n",
              "    <tr>\n",
              "      <th>2</th>\n",
              "      <td>2</td>\n",
              "      <td>2</td>\n",
              "      <td>17285</td>\n",
              "      <td>Tyrus Wong, ‘Bambi’ Artist Thwarted by Racial ...</td>\n",
              "      <td>New York Times</td>\n",
              "      <td>Margalit Fox</td>\n",
              "      <td>2017-01-06</td>\n",
              "      <td>2017.0</td>\n",
              "      <td>1.0</td>\n",
              "      <td>NaN</td>\n",
              "      <td>tyruswongbambiartistthwartedbyracialbiasdyat10...</td>\n",
              "      <td>[when, walt, disney, s, bambi, opened, in, 194...</td>\n",
              "    </tr>\n",
              "    <tr>\n",
              "      <th>3</th>\n",
              "      <td>3</td>\n",
              "      <td>3</td>\n",
              "      <td>17286</td>\n",
              "      <td>Among Deaths in 2016, a Heavy Toll in Pop Musi...</td>\n",
              "      <td>New York Times</td>\n",
              "      <td>William McDonald</td>\n",
              "      <td>2017-04-10</td>\n",
              "      <td>2017.0</td>\n",
              "      <td>4.0</td>\n",
              "      <td>NaN</td>\n",
              "      <td>amongdeathin2016aheavytollinpopmusicthenewyork...</td>\n",
              "      <td>[death, may, be, the, great, equalizer, but, i...</td>\n",
              "    </tr>\n",
              "    <tr>\n",
              "      <th>4</th>\n",
              "      <td>4</td>\n",
              "      <td>4</td>\n",
              "      <td>17287</td>\n",
              "      <td>Kim Jong-un Says North Korea Is Preparing to T...</td>\n",
              "      <td>New York Times</td>\n",
              "      <td>Choe Sang-Hun</td>\n",
              "      <td>2017-01-02</td>\n",
              "      <td>2017.0</td>\n",
              "      <td>1.0</td>\n",
              "      <td>NaN</td>\n",
              "      <td>kimjongunsaynorthkoreaispreparingtotestlongran...</td>\n",
              "      <td>[seoul, south, korea, north, korea, s, leader,...</td>\n",
              "    </tr>\n",
              "  </tbody>\n",
              "</table>\n",
              "</div>"
            ],
            "text/plain": [
              "   index  ...                                           content2\n",
              "0      0  ...  [washington, congressional, republican, have, ...\n",
              "1      1  ...  [after, the, bullet, shell, get, counted, the,...\n",
              "2      2  ...  [when, walt, disney, s, bambi, opened, in, 194...\n",
              "3      3  ...  [death, may, be, the, great, equalizer, but, i...\n",
              "4      4  ...  [seoul, south, korea, north, korea, s, leader,...\n",
              "\n",
              "[5 rows x 12 columns]"
            ]
          },
          "metadata": {
            "tags": []
          },
          "execution_count": 21
        }
      ]
    },
    {
      "cell_type": "code",
      "metadata": {
        "id": "wDx05zZtxkVh"
      },
      "source": [
        ""
      ],
      "execution_count": null,
      "outputs": []
    }
  ]
}